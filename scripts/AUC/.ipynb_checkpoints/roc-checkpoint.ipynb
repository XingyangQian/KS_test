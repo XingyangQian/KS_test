{
 "cells": [
  {
   "cell_type": "code",
   "execution_count": 1,
   "metadata": {},
   "outputs": [],
   "source": [
    "from sklearn import svm,datasets\n",
    "from pandas.io.parsers import read_table\n",
    "import pandas as pd\n",
    "import matplotlib.pyplot as plt\n",
    "import numpy as np\n",
    "%matplotlib inline\n",
    "from sklearn.metrics import roc_curve, auc\n",
    "import seaborn as sns\n",
    "from scipy import stats\n",
    "from nested_dict import nested_dict\n",
    "from pyfasta import Fasta"
   ]
  },
  {
   "cell_type": "code",
   "execution_count": 2,
   "metadata": {},
   "outputs": [],
   "source": [
    "def read_icshape_out(out=None, pureID=1):\n",
    "\tout_dict = nested_dict()\n",
    "\twith open(out, 'r') as OUT:\n",
    "\t\tfor line in OUT:\n",
    "\t\t\tline = line.strip()\n",
    "\t\t\tif not line or line.startswith('#'): continue\n",
    "\t\t\tarr = line.split('\\t')\n",
    "\t\t\ttx_id = arr[0]\n",
    "\t\t\tif pureID:\n",
    "\t\t\t\ttx_id = tx_id.split('.')[0]\n",
    "\t\t\tlength = int(arr[1])\n",
    "\t\t\trpkm = float(arr[2])\n",
    "\t\t\treactivity_ls = arr[3:]\n",
    "\t\t\tout_dict[tx_id]['tx_id'] = tx_id\n",
    "\t\t\tout_dict[tx_id]['length'] = length\n",
    "\t\t\tout_dict[tx_id]['rpkm'] = rpkm\n",
    "\t\t\tout_dict[tx_id]['reactivity_ls'] = reactivity_ls\n",
    "\treturn out_dict"
   ]
  },
  {
   "cell_type": "code",
   "execution_count": 32,
   "metadata": {},
   "outputs": [],
   "source": [
    "out_dict_kethoxal_rRNA = read_icshape_out('kethoxalseq_rRNA.out')\n",
    "# out_dict1['18S']\n",
    "\n",
    "out_dict_kethoxal_rRNA_noTreat = read_icshape_out('kethoxalseq_rRNA_noTreat.out')\n",
    "\n",
    "out_dict_icshape_rRNA = read_icshape_out('icSHAPE.1.rrna.out')\n",
    "# out_dict2['18S']"
   ]
  },
  {
   "cell_type": "code",
   "execution_count": 20,
   "metadata": {
    "scrolled": false
   },
   "outputs": [
    {
     "name": "stdout",
     "output_type": "stream",
     "text": [
      "1870 ACCTGGTTGATCCTGCCAGGTAGCATATGCTTGTCTCAAAGATTAAGCCATGCATGTCTAAGTACGCACGGCCGGTACAGTGAAACTGCGAATGGCTCATTAAATCAGTTATGGTTCCTTTGGTCGCTCGCTCCTCTCCTACTTGGATAACTGTGGTAATTCTAGAGCTAATACATGCCGACGGGCGCTGACCCCCCTTCCCGGGGGGGGATGCGTGCATTTATCAGATCAAAACCAACCCGGTGAGCTCCCTCCCGGCTCCGGCCGGGGGTCGGGCGCCGGCGGCTTGGTGACTCTAGATAACCTCGGGCCGATCGCACGCCCCCCGTGGCGGCGACGACCCATTCGAACGTCTGCCCTATCAACTTTCGATGGTAGTCGCCGTGCCTACCATGGTGACCACGGGTGACGGGGAATCAGGGTTCGATTCCGGAGAGGGAGCCTGAGAAACGGCTACCACATCCAAGGAAGGCAGCAGGCGCGCAAATTACCCACTCCCGACCCGGGGAGGTAGTGACGAAAAATAACAATACAGGACTCTTTCGAGGCCCTGTAATTGGAATGAGTCCACTTTAAATCCTTTAACGAGGATCCATTGGAGGGCAAGTCTGGTGCCAGCAGCCGCGGTAATTCCAGCTCCAATAGCGTATATTAAAGTTGCTGCAGTTAAAAAGCTCGTAGTTGGATCTTGGGAGCGGGCGGGCGGTCCGCCGCGAGGCGAGTCACCGCCCGTCCCCGCCCCTTGCCTCTCGGCGCCCCCTCGATGCTCTTAGCTGAGTGTCCCGCGGGGCCCGAAGCGTTTACTTTGAAAAAATTAGAGTGTTCAAAGCAGGCCCGAGCCGCCTGGATACCGCAGCTAGGAATAATGGAATAGGACCGCGGTTCTATTTTGTTGGTTTTCGGAACTGAGGCCATGATTAAGAGGGACGGCCGGGGGCATTCGTATTGCGCCGCTAGAGGTGAAATTCTTGGACCGGCGCAAGACGGACCAGAGCGAAAGCATTTGCCAAGAATGTTTTCATTAATCAAGAACGAAAGTCGGAGGTTCGAAGACGATCAGATACCGTCGTAGTTCCGACCATAAACGATGCCGACTGGCGATGCGGCGGCGTTATTCCCATGACCCGCCGGGCAGCTTCCGGGAAACCAAAGTCTTTGGGTTCCGGGGGGAGTATGGTTGCAAAGCTGAAACTTAAAGGAATTGACGGAAGGGCACCACCAGGAGTGGGCCTGCGGCTTAATTTGACTCAACACGGGAAACCTCACCCGGCCCGGACACGGACAGGATTGACAGATTGATAGCTCTTTCTCGATTCCGTGGGTGGTGGTGCATGGCCGTTCTTAGTTGGTGGAGCGATTTGTCTGGTTAATTCCGATAACGAACGAGACTCTGGCATGCTAACTAGTTACGCGACCCCCGAGCGGTCGGCGTCCCCCAACTTCTTAGAGGGACAAGTGGCGTTCAGCCACCCGAGATTGAGCAATAACAGGTCTGTGATGCCCTTAGATGTCCGGGGCTGCACGCGCGCTACACTGACTGGCTCAGCGTGTGCCTACCCTGCGCCGGCAGGCGCGGGTAACCCGTTGAACCCCATTCGTGATGGGGATCGGGGATTGCAATTATTCCCCATGAACGAGGAATTCCCAGTAAGTGCGGGTCATAAGCTTGCGTTGATTAAGTCCCTGCCCTTTGTACACACCGCCCGTCGCTACTACCGATTGGATGGTTTAGTGAGGCCCTCGGATCGGCCCCGCCGGGGTCGGCCCACGGCCCTGGCGGAGCGCTGAGAAGACGGTCGAACTTGACTATCTAGAGGAAGTAAAAGTCGTAACAAGGTTTCCGTAGGTGAACCTGCGGAAGGATCATTAA\n",
      "1869 TACCTGGTTGATCCTGCCAGTAGCATATGCTTGTCTCAAAGATTAAGCCATGCATGTCTGAGTACGCACGGCCGGTACAGTGAAACTGCGAATGGCTCATTAAATCAGTTATGGTTCCTTTGGTCGCTCGCTCCTCTCCTACTTGGATAACTGTGGTAATTCTAGAGCTAATACATGCCGACGGGCGCTGACCCCCTTCGCGGGGGGGATGCGTGCATTTATCAGATCAAAACCAACCCGGTCAGCCCCTCTCCGGCCCCGGCCGGGGGGCGGGCGCCGGCGGCTTTGGTGACTCTAGATAACCTCGGGCCGATCGCACGCCCCCCGTGGCGGCGACGACCCATTCGAACGTCTGCCCTATCAACTTTCGATGGTAGTCGCCGTGCCTACCATGGTGACCACGGGTGACGGGGAATCAGGGTTCGATTCCGGAGAGGGAGCCTGAGAAACGGCTACCACATCCAAGGAAGGCAGCAGGCGCGCAAATTACCCACTCCCGACCCGGGGAGGTAGTGACGAAAAATAACAATACAGGACTCTTTCGAGGCCCTGTAATTGGAATGAGTCCACTTTAAATCCTTTAACGAGGATCCATTGGAGGGCAAGTCTGGTGCCAGCAGCCGCGGTAATTCCAGCTCCAATAGCGTATATTAAAGTTGCTGCAGTTAAAAAGCTCGTAGTTGGATCTTGGGAGCGGGCGGGCGGTCCGCCGCGAGGCGAGCCACCGCCCGTCCCCGCCCCTTGCCTCTCGGCGCCCCCTCGATGCTCTTAGCTGAGTGTCCCGCGGGGCCCGAAGCGTTTACTTTGAAAAAATTAGAGTGTTCAAAGCAGGCCCGAGCCGCCTGGATACCGCAGCTAGGAATAATGGAATAGGACCGCGGTTCTATTTTGTTGGTTTTCGGAACTGAGGCCATGATTAAGAGGGACGGCCGGGGGCATTCGTATTGCGCCGCTAGAGGTGAAATTCTTGGACCGGCGCAAGACGGACCAGAGCGAAAGCATTTGCCAAGAATGTTTTCATTAATCAAGAACGAAAGTCGGAGGTTCGAAGACGATCAGATACCGTCGTAGTTCCGACCATAAACGATGCCGACCGGCGATGCGGCGGCGTTATTCCCATGACCCGCCGGGCAGCTTCCGGGAAACCAAAGTCTTTGGGTTCCGGGGGGAGTATGGTTGCAAAGCTGAAACTTAAAGGAATTGACGGAAGGGCACCACCAGGAGTGGAGCCTGCGGCTTAATTTGACTCAACACGGGAAACCTCACCCGGCCCGGACACGGACAGGATTGACAGATTGATAGCTCTTTCTCGATTCCGTGGGTGGTGGTGCATGGCCGTTCTTAGTTGGTGGAGCGATTTGTCTGGTTAATTCCGATAACGAACGAGACTCTGGCATGCTAACTAGTTACGCGACCCCCGAGCGGTCGGCGTCCCCCAACTTCTTAGAGGGACAAGTGGCGTTCAGCCACCCGAGATTGAGCAATAACAGGTCTGTGATGCCCTTAGATGTCCGGGGCTGCACGCGCGCTACACTGACTGGCTCAGCGTGTGCCTACCCTACGCCGGCAGGCGCGGGTAACCCGTTGAACCCCATTCGTGATGGGGATCGGGGATTGCAATTATTCCCCATGAACGAGGAATTCCCAGTAAGTGCGGGTCATAAGCTTGCGTTGATTAAGTCCCTGCCCTTTGTACACACCGCCCGTCGCTACTACCGATTGGATGGTTTAGTGAGGCCCTCGGATCGGCCCCGCCGGGGTCGGCCCACGGCCCTGGCGGAGCGCTGAGAAGACGGTCGAACTTGACTATCTAGAGGAAGTAAAAGTCGTAACAAGGTTTCCGTAGGTGAACCTGCGGAAGGATCATTA\n"
     ]
    }
   ],
   "source": [
    "fa_dict1 = Fasta('ribosomalRNA.fasta', key_fn=lambda key:key.split(\"\\t\")[0])\n",
    "fa_dict_rRNA_mouse = {i.split()[0].split('.')[0]:j[0:] for i,j in fa_dict1.items()}\n",
    "\n",
    "fa_dict_rRNA_mouse.keys()\n",
    "print len(fa_dict_rRNA_mouse['18S']), fa_dict_rRNA_mouse['18S']\n",
    "\n",
    "fa_dict_rRNA_human = Fasta('human_18S.fa', key_fn=lambda key:key.split(\"\\t\")[0])\n",
    "fa_dict_rRNA_human.keys()\n",
    "print len(fa_dict_rRNA_human['18S'][0:]), fa_dict_rRNA_human['18S'][0:]"
   ]
  },
  {
   "cell_type": "code",
   "execution_count": 21,
   "metadata": {},
   "outputs": [],
   "source": [
    "def read_dot(dot=None):\n",
    "\tdot_dict = nested_dict()\n",
    "\twith open(dot, 'r') as DOT:\n",
    "\t\tfor n,line in enumerate(DOT):\n",
    "\t\t\tline = line.strip()\n",
    "\t\t\tif not line or line.startswith('#'): continue\n",
    "\t\t\tif n == 0:\n",
    "\t\t\t\tdot_dict['name'] = line.replace('>','')\n",
    "\t\t\tif n == 1:\n",
    "\t\t\t\tdot_dict['seq'] = line\n",
    "\t\t\tif n == 2:\n",
    "\t\t\t\tdot_dict['dotbracket'] = line\n",
    "\t#print dot_dict\n",
    "\treturn dot_dict"
   ]
  },
  {
   "cell_type": "code",
   "execution_count": 22,
   "metadata": {},
   "outputs": [],
   "source": [
    "def read_rt(rt=None):\n",
    "\trt_dict = nested_dict()\n",
    "\twith open(rt, 'r') as RT:\n",
    "\t\tfor line in RT:\n",
    "\t\t\tline = line.strip()\n",
    "\t\t\tif not line or line.startswith('#'): continue\n",
    "\t\t\tarr = line.split('\\t')\n",
    "\t\t\ttx_id = arr[0]\n",
    "\t\t\trt_dict[tx_id]['tx_id'] = tx_id\n",
    "\t\t\trt_dict[tx_id]['length'] = int(arr[1])\n",
    "\t\t\trt_dict[tx_id][arr[2]] = arr[5:] \n",
    "\treturn rt_dict.to_dict()"
   ]
  },
  {
   "cell_type": "code",
   "execution_count": 23,
   "metadata": {},
   "outputs": [
    {
     "name": "stdout",
     "output_type": "stream",
     "text": [
      "UACCUGGUUGAUCCUGCCAGUAGCAUAUGCUUGUCUCAAAGAUUAAGCCAUGCAUGUCUAAGUACGCACGGCCGGUACAGUGAAACUGCGAAUGGCUCAUUAAAUCAGUUAUGGUUCCUUUGGUCGCUCGCUCCUCUCCUACUUGGAUAACUGUGGUAAUUCUAGAGCUAAUACAUGCCGACGGGCGCUGACCCCCCUUCCCGGGGGGGGAUGCGUGCAUUUAUCAGAUCAAAACCAACCCGGUGAGCUCCCUCCCGGCUCCGGCCGGGGGUCGGGCGCCGGCGGCUUGGUGACUCUAGAUAACCUCGGGCCGAUCGCACGCCCCCCGUGGCGGCGACGACCCAUUCGAACGUCUGCCCUAUCAACUUUCGAUGGUAGUCGCCGUGCCUACCAUGGUGACCACGGGUGACGGGGAAUCAGGGUUCGAUUCCGGAGAGGGAGCCUGAGAAACGGCUACCACAUCCAAGGAAGGCAGCAGGCGCGCAAAUUACCCACUCCCGACCCGGGGAGGUAGUGACGAAAAAUAACAAUACAGGACUCUUUCGAGGCCCUGUAAUUGGAAUGAGUCCACUUUAAAUCCUUUAACGAGGAUCCAUUGGAGGGCAAGUCUGGUGCCAGCAGCCGCGGUAAUUCCAGCUCCAAUAGCGUAUAUUAAAGUUGCUGCAGUUAAAAAGCUCGUAGUUGGAUCUUGGGAGCGGGCGGGCGGUCCGCCGCGAGGCGAGUCACCGCCCGUCCCCGCCCCUUGCCUCUCGGCGCCCCCUCGAUGCUCUUAGCUGAGUGUCCCGCGGGGCCCGAAGCGUUUACUUUGAAAAAAUUAGAGUGUUCAAAGCAGGCCCGAGCCGCCUGGAUACCGCAGCUAGGAAUAAUGGAAUAGGACCGCGGUUCUAUUUUGUUGGUUUUCGGAACUGAGGCCAUGAUUAAGAGGGACGGCCGGGGGCAUUCGUAUUGCGCCGCUAGAGGUGAAAUUCUUGGACCGGCGCAAGACGGACCAGAGCGAAAGCAUUUGCCAAGAAUGUUUUCAUUAAUCAAGAACGAAAGUCGGAGGUUCGAAGACGAUCAGAUACCGUCGUAGUUCCGACCAUAAACGAUGCCGACUGGCGAUGCGGCGGCGUUAUUCCCAUGACCCGCCGGGCAGCUUCCGGGAAACCAAAGUCUUUGGGUUCCGGGGGGAGUAUGGUUGCAAAGCUGAAACUUAAAGGAAUUGACGGAAGGGCACCACCAGGAGUGGGCCUGCGGCUUAAUUUGACUCAACACGGGAAACCUCACCCGGCCCGGACACGGACAGGAUUGACAGAUUGAUAGCUCUUUCUCGAUUCCGUGGGUGGUGGUGCAUGGCCGUUCUUAGUUGGUGGAGCGAUUUGUCUGGUUAAUUCCGAUAACGAACGAGACUCUGGCAUGCUAACUAGUUACGCGACCCCCGAGCGGUCGGCGUCCCCCAACUUCUUAGAGGGACAAGUGGCGUUCAGCCACCCGAGAUUGAGCAAUAACAGGUCUGUGAUGCCCUUAGAUGUCCGGGGCUGCACGCGCGCUACACUGACUGGCUCAGCGUGUGCCUACCCUGCGCCGGCAGGCGCGGGUAACCCGUUGAACCCCAUUCGUGAUGGGGAUCGGGGAUUGCAAUUAUUCCCCAUGAACGAGGAAUUCCCAGUAAGUGCGGGUCAUAAGCUUGCGUUGAUUAAGUCCCUGCCCUUUGUACACACCGCCCGUCGCUACUACCGAUUGGAUGGUUUAGUGAGGCCCUCGGAUCGGCCCCGCCGGGGUCGGCCCACGGCCCUGGCGGAGCGCUGAGAAGACGGUCGAACUUGACUAUCUAGAGGAAGUAAAAGUCGUAACAAGGUUUCCGUAGGUGAACCUGCGGAAGGAUCAUUA\n",
      "...(((((...(((.))))).((((((((((.(((((((((.....(((.(((..((...(((....((..........))...)))))......(((......((((..((..((....(((..................((((....(((((((.....))))))).....)))).......((((...((((((......))))))...))))....((((((.......(((((.((((...((((.((((((((....))))))))..)))).))))....)))))......))))))...........((((.((((......))))))))....)))...))))..))))(((..(.(((....((((((((.......))))))))))).....))))...((((((((....))))...))))))).((((((..........)))))).((((....))))...)))))).).....(.(((...(((((...))))).)))).)).))))))....(((((((((.(((....)))..)))))).)))......(((.(((.......)))).)).........(((((((((....((((.....((.))))).......)))))))))).))))))))))..........(((((.....((((...(((.......(((.(((((((((((((.((((....))))....))))))))..)))))))).......((((.(((((...(((((((......)))))))....)))))))))................................................................................................................................(((((((((..(((((((((..((((((((...(((......)))......))))))))..))....(..((....)))))))))).))))).))))...)))...))))....((((((...((...((((.........))))...))))))))..........((((((.(((..((((((((.(((((....)))))))))))))..)))...((..))))...)))....))).)))..(((.....((((....))))....)))...)))..(((((.(((((((..((..((((((((((((((((....((((........))))........(((((((....(((((........((((((........))))))......)))))...((.((((..(((((((((...(((((((((....)))..((((......))))..)))))).....((((.(((.((((..((((....(((..((((....)))).)))....))))..)))))))..((((((((.....))))))))....))))...)))).)))...).))))))).....)))))))...)).))))))).))...(((((((.....(((.......((..((((....))))..)).....))).....)))))))......(...((((((((........))))))))...).....))))).....((((((((.......))))))))......))...)))))))))).))....((.((.(.((((((((.((.((((((((((((..(((((((((((((((.((((((((((((.....))))))))))))...)))))))))))))))..))))))))))))).)))))))))..).))..))....((((((((((....))))))))))........\n"
     ]
    }
   ],
   "source": [
    "dot_dict_18S = read_dot('RNA_strand_16S.dot')\n",
    "print dot_dict_18S['seq']\n",
    "print dot_dict_18S['dotbracket']"
   ]
  },
  {
   "cell_type": "code",
   "execution_count": 24,
   "metadata": {},
   "outputs": [
    {
     "name": "stdout",
     "output_type": "stream",
     "text": [
      "original 1869\n",
      "converted 1870\n"
     ]
    }
   ],
   "source": [
    "mouse_ct_18S = list(dot_dict_18S['dotbracket'].replace('.','1').replace('(','0').replace(')','0'))\n",
    "\n",
    "print \"original\", len(mouse_ct_18S)\n",
    "\n",
    "# convert 1869bp to 1870bp ct dot file\n",
    "mouse_ct_18S_new = map(int, mouse_ct_18S[1:][0:18] + ['1'] + mouse_ct_18S[1:][18:] + ['1'])\n",
    "print \"converted\", len(mouse_ct_18S_new)"
   ]
  },
  {
   "cell_type": "code",
   "execution_count": 25,
   "metadata": {},
   "outputs": [
    {
     "data": {
      "text/html": [
       "<div>\n",
       "<table border=\"1\" class=\"dataframe\">\n",
       "  <thead>\n",
       "    <tr style=\"text-align: right;\">\n",
       "      <th></th>\n",
       "      <th>a</th>\n",
       "      <th>b</th>\n",
       "      <th>c</th>\n",
       "    </tr>\n",
       "  </thead>\n",
       "  <tbody>\n",
       "    <tr>\n",
       "      <th>0</th>\n",
       "      <td>1</td>\n",
       "      <td>U</td>\n",
       "      <td>0</td>\n",
       "    </tr>\n",
       "    <tr>\n",
       "      <th>1</th>\n",
       "      <td>2</td>\n",
       "      <td>A</td>\n",
       "      <td>0</td>\n",
       "    </tr>\n",
       "    <tr>\n",
       "      <th>2</th>\n",
       "      <td>3</td>\n",
       "      <td>C</td>\n",
       "      <td>0</td>\n",
       "    </tr>\n",
       "    <tr>\n",
       "      <th>3</th>\n",
       "      <td>4</td>\n",
       "      <td>C</td>\n",
       "      <td>0</td>\n",
       "    </tr>\n",
       "    <tr>\n",
       "      <th>4</th>\n",
       "      <td>5</td>\n",
       "      <td>U</td>\n",
       "      <td>0</td>\n",
       "    </tr>\n",
       "  </tbody>\n",
       "</table>\n",
       "</div>"
      ],
      "text/plain": [
       "   a  b  c\n",
       "0  1  U  0\n",
       "1  2  A  0\n",
       "2  3  C  0\n",
       "3  4  C  0\n",
       "4  5  U  0"
      ]
     },
     "execution_count": 25,
     "metadata": {},
     "output_type": "execute_result"
    }
   ],
   "source": [
    "accessibility = pd.read_csv('18s_o2_sasa.sort.txt', header=None, sep='\\t')\n",
    "accessibility.columns = ['a', 'b', 'c']\n",
    "accessibility.head()"
   ]
  },
  {
   "cell_type": "code",
   "execution_count": 26,
   "metadata": {},
   "outputs": [
    {
     "name": "stdout",
     "output_type": "stream",
     "text": [
      "original 1869\n",
      "converted 1 1869\n",
      "converted 2 1870\n"
     ]
    }
   ],
   "source": [
    "m = 'ACCTGGTTGATCCTGCCAGGTAGCATATGCTTGTCTCAAAGATTAAGCCATGCATGTCTAAGTACGCACGGCCGGTACAGTGAAACTGCGAATGGCTCATTAAATCAGTTATGGTTCCTTTGGTCGCTCGCTCCTCTCCTACTTGGATAACTGTGGTAATTCTAGAGCTAATACATGCCGACGGGCGCTGACCCCCCTTCCCGGGGGGGGATGCGTGCATTTATCAGATCAAAACCAACCCGGTGAGCTCCCTC-CCGGCTCCGGCCGGGGGTCGGGCGCCGGCGGC-TTGGTGACTCTAGATAACCTCGGGCCGATCGCACGCCCCCCGTGGCGGCGACGACCCATTCGAACGTCTGCCCTATCAACTTTCGATGGTAGTCGCCGTGCCTACCATGGTGACCACGGGTGACGGGGAATCAGGGTTCGATTCCGGAGAGGGAGCCTGAGAAACGGCTACCACATCCAAGGAAGGCAGCAGGCGCGCAAATTACCCACTCCCGACCCGGGGAGGTAGTGACGAAAAATAACAATACAGGACTCTTTCGAGGCCCTGTAATTGGAATGAGTCCACTTTAAATCCTTTAACGAGGATCCATTGGAGGGCAAGTCTGGTGCCAGCAGCCGCGGTAATTCCAGCTCCAATAGCGTATATTAAAGTTGCTGCAGTTAAAAAGCTCGTAGTTGGATCTTGGGAGCGGGCGGGCGGTCCGCCGCGAGGCGAGTCACCGCCCGTCCCCGCCCCTTGCCTCTCGGCGCCCCCTCGATGCTCTTAGCTGAGTGTCCCGCGGGGCCCGAAGCGTTTACTTTGAAAAAATTAGAGTGTTCAAAGCAGGCCCGAGCCGCCTGGATACCGCAGCTAGGAATAATGGAATAGGACCGCGGTTCTATTTTGTTGGTTTTCGGAACTGAGGCCATGATTAAGAGGGACGGCCGGGGGCATTCGTATTGCGCCGCTAGAGGTGAAATTCTTGGACCGGCGCAAGACGGACCAGAGCGAAAGCATTTGCCAAGAATGTTTTCATTAATCAAGAACGAAAGTCGGAGGTTCGAAGACGATCAGATACCGTCGTAGTTCCGACCATAAACGATGCCGACTGGCGATGCGGCGGCGTTATTCCCATGACCCGCCGGGCAGCTTCCGGGAAACCAAAGTCTTTGGGTTCCGGGGGGAGTATGGTTGCAAAGCTGAAACTTAAAGGAATTGACGGAAGGGCACCACCAGGAGTGG-GCCTGCGGCTTAATTTGACTCAACACGGGAAACCTCACCCGGCCCGGACACGGACAGGATTGACAGATTGATAGCTCTTTCTCGATTCCGTGGGTGGTGGTGCATGGCCGTTCTTAGTTGGTGGAGCGATTTGTCTGGTTAATTCCGATAACGAACGAGACTCTGGCATGCTAACTAGTTACGCGACCCCCGAGCGGTCGGCGTCCCCCAACTTCTTAGAGGGACAAGTGGCGTTCAGCCACCCGAGATTGAGCAATAACAGGTCTGTGATGCCCTTAGATGTCCGGGGCTGCACGCGCGCTACACTGACTGGCTCAGCGTGTGCCTACCCTGCGCCGGCAGGCGCGGGTAACCCGTTGAACCCCATTCGTGATGGGGATCGGGGATTGCAATTATTCCCCATGAACGAGGAATTCCCAGTAAGTGCGGGTCATAAGCTTGCGTTGATTAAGTCCCTGCCCTTTGTACACACCGCCCGTCGCTACTACCGATTGGATGGTTTAGTGAGGCCCTCGGATCGGCCCCGCCGGGGTCGGCCCACGGCCCTGGCGGAGCGCTGAGAAGACGGTCGAACTTGACTATCTAGAGGAAGTAAAAGTCGTAACAAGGTTTCCGTAGGTGAACCTGCGGAAGGATCATTA'\n",
    "h = 'ACCTGGTTGATCCTGCCA-GTAGCATATGCTTGTCTCAAAGATTAAGCCATGCATGTCTGAGTACGCACGGCCGGTACAGTGAAACTGCGAATGGCTCATTAAATCAGTTATGGTTCCTTTGGTCGCTCGCTCCTCTCCTACTTGGATAACTGTGGTAATTCTAGAGCTAATACATGCCGACGGGCGCTGACCCCC-TTCGC-GGGGGGGATGCGTGCATTTATCAGATCAAAACCAACCCGGTCAGC-CCCTCTCCGGCCCCGGCCGGGGGGCGGGCGCCGGCGGCTTTGGTGACTCTAGATAACCTCGGGCCGATCGCACGCCCCCCGTGGCGGCGACGACCCATTCGAACGTCTGCCCTATCAACTTTCGATGGTAGTCGCCGTGCCTACCATGGTGACCACGGGTGACGGGGAATCAGGGTTCGATTCCGGAGAGGGAGCCTGAGAAACGGCTACCACATCCAAGGAAGGCAGCAGGCGCGCAAATTACCCACTCCCGACCCGGGGAGGTAGTGACGAAAAATAACAATACAGGACTCTTTCGAGGCCCTGTAATTGGAATGAGTCCACTTTAAATCCTTTAACGAGGATCCATTGGAGGGCAAGTCTGGTGCCAGCAGCCGCGGTAATTCCAGCTCCAATAGCGTATATTAAAGTTGCTGCAGTTAAAAAGCTCGTAGTTGGATCTTGGGAGCGGGCGGGCGGTCCGCCGCGAGGCGAGCCACCGCCCGTCCCCGCCCCTTGCCTCTCGGCGCCCCCTCGATGCTCTTAGCTGAGTGTCCCGCGGGGCCCGAAGCGTTTACTTTGAAAAAATTAGAGTGTTCAAAGCAGGCCCGAGCCGCCTGGATACCGCAGCTAGGAATAATGGAATAGGACCGCGGTTCTATTTTGTTGGTTTTCGGAACTGAGGCCATGATTAAGAGGGACGGCCGGGGGCATTCGTATTGCGCCGCTAGAGGTGAAATTCTTGGACCGGCGCAAGACGGACCAGAGCGAAAGCATTTGCCAAGAATGTTTTCATTAATCAAGAACGAAAGTCGGAGGTTCGAAGACGATCAGATACCGTCGTAGTTCCGACCATAAACGATGCCGACCGGCGATGCGGCGGCGTTATTCCCATGACCCGCCGGGCAGCTTCCGGGAAACCAAAGTCTTTGGGTTCCGGGGGGAGTATGGTTGCAAAGCTGAAACTTAAAGGAATTGACGGAAGGGCACCACCAGGAGTGGAGCCTGCGGCTTAATTTGACTCAACACGGGAAACCTCACCCGGCCCGGACACGGACAGGATTGACAGATTGATAGCTCTTTCTCGATTCCGTGGGTGGTGGTGCATGGCCGTTCTTAGTTGGTGGAGCGATTTGTCTGGTTAATTCCGATAACGAACGAGACTCTGGCATGCTAACTAGTTACGCGACCCCCGAGCGGTCGGCGTCCCCCAACTTCTTAGAGGGACAAGTGGCGTTCAGCCACCCGAGATTGAGCAATAACAGGTCTGTGATGCCCTTAGATGTCCGGGGCTGCACGCGCGCTACACTGACTGGCTCAGCGTGTGCCTACCCTACGCCGGCAGGCGCGGGTAACCCGTTGAACCCCATTCGTGATGGGGATCGGGGATTGCAATTATTCCCCATGAACGAGGAATTCCCAGTAAGTGCGGGTCATAAGCTTGCGTTGATTAAGTCCCTGCCCTTTGTACACACCGCCCGTCGCTACTACCGATTGGATGGTTTAGTGAGGCCCTCGGATCGGCCCCGCCGGGGTCGGCCCACGGCCCTGGCGGAGCGCTGAGAAGACGGTCGAACTTGACTATCTAGAGGAAGTAAAAGTCGTAACAAGGTTTCCGTAGGTGAACCTGCGGAAGGATCATTA'\n",
    "\n",
    "a_ls = list(accessibility['c'])\n",
    "print \"original\", len(a_ls)\n",
    "new_ls = []\n",
    "\n",
    "n = 0\n",
    "for i,j in zip(m, h):\n",
    "    if j != '-':\n",
    "        n += 1\n",
    "    if i != '-':\n",
    "        if j == '-':\n",
    "            new_ls.append('NULL')\n",
    "        else:\n",
    "            new_ls.append(a_ls[n])\n",
    "    \n",
    "print \"converted 1\", len(new_ls)\n",
    "\n",
    "# convert human 18S 1869bo to mouse 18S 1870bp (accessibility info)\n",
    "mouse_acces_ls = new_ls + ['NULL']\n",
    "mouse_acces_ls = [np.nan if i == 'NULL' else i for i in mouse_acces_ls]\n",
    "print \"converted 2\", len(mouse_acces_ls)"
   ]
  },
  {
   "cell_type": "code",
   "execution_count": 33,
   "metadata": {},
   "outputs": [],
   "source": [
    "kethoxal = out_dict_kethoxal_rRNA['18S']['reactivity_ls']\n",
    "icshape = out_dict_icshape_rRNA['18S']['reactivity_ls']\n",
    "kethoxal_notreat = out_dict_kethoxal_rRNA_noTreat['18S']['reactivity_ls']\n",
    "\n",
    "kethoxal = [np.nan if i == 'NULL' else float(i) for i in kethoxal]\n",
    "kethoxal_df = pd.DataFrame({'x':kethoxal})\n",
    "\n",
    "kethoxal_notreat = [np.nan if i == 'NULL' else float(i) for i in kethoxal_notreat]\n",
    "kethoxal_notreat_df = pd.DataFrame({'x':kethoxal_notreat})\n",
    "\n",
    "icshape = [np.nan if i == 'NULL' else float(i) for i in icshape]\n",
    "icshape_df = pd.DataFrame({'x':icshape})"
   ]
  },
  {
   "cell_type": "code",
   "execution_count": 28,
   "metadata": {},
   "outputs": [],
   "source": [
    "rt_dict_kethoxal_rRNA = read_rt('./kethoxal_rRNA.normalized.rt')\n",
    "rt_dict_icshape_rRNA = read_rt('./icshape.vivo1.rrna.normalized.rt')\n",
    "\n",
    "kethoxal_rt = rt_dict_kethoxal_rRNA['18S']['RTstop']\n",
    "icshape_rt = rt_dict_icshape_rRNA['18S']['RTstop']\n",
    "\n",
    "kethoxal_bd = rt_dict_kethoxal_rRNA['18S']['baseDensity']\n",
    "icshape_bd = rt_dict_icshape_rRNA['18S']['baseDensity']\n",
    "\n",
    "kethoxal_rt = [np.nan if i == 'NULL' else float(i) for i in kethoxal_rt]\n",
    "kethoxal_rt_df = pd.DataFrame({'x':kethoxal_rt})\n",
    "\n",
    "icshape_rt = [np.nan if i == 'NULL' else float(i) for i in icshape_rt]\n",
    "icshape_rt_df = pd.DataFrame({'x':icshape_rt})\n",
    "\n",
    "kethoxal_rt_div_bd = [i/float(j) for i,j in zip(kethoxal_rt, kethoxal_bd)]\n",
    "icshape_rt_div_bd = [i/float(j) for i,j in zip(icshape_rt, icshape_bd)]\n",
    "\n",
    "kethoxal_rt_div_bd_df = pd.DataFrame({'x':kethoxal_rt_div_bd})\n",
    "icshape_rt_div_bd_df = pd.DataFrame({'x':icshape_rt_div_bd})"
   ]
  },
  {
   "cell_type": "code",
   "execution_count": 29,
   "metadata": {},
   "outputs": [],
   "source": [
    "kethoxal_rt_df = kethoxal_rt_df/kethoxal_rt_df.max()\n",
    "icshape_rt_df = icshape_rt_df/icshape_rt_df.max()\n",
    "\n",
    "kethoxal_rt_div_bd_df = kethoxal_rt_div_bd_df/kethoxal_rt_div_bd_df.max()\n",
    "icshape_rt_div_bd_df = icshape_rt_div_bd_df/icshape_rt_div_bd_df.max()\n"
   ]
  },
  {
   "cell_type": "code",
   "execution_count": 60,
   "metadata": {
    "scrolled": true
   },
   "outputs": [
    {
     "name": "stdout",
     "output_type": "stream",
     "text": [
      "          x  y       a base\n",
      "46    0.116  0  28.482    G\n",
      "69    0.141  1  13.343    G\n",
      "70    0.397  1  52.373    G\n",
      "73    1.000  1  51.026    G\n",
      "74    1.000  1  52.455    G\n",
      "79    0.756  0  46.092    G\n",
      "81    0.754  1   6.207    G\n",
      "144   0.160  0   9.901    G\n",
      "182   0.420  1  72.333    G\n",
      "183   1.000  1  18.402    G\n",
      "184   0.033  0  54.148    G\n",
      "203   0.000  0  63.683    G\n",
      "205   0.000  0  32.180    G\n",
      "206   0.000  0  56.310    G\n",
      "207   0.000  0  60.130    G\n",
      "208   0.417  0  53.229    G\n",
      "212   0.000  0  57.174    G\n",
      "298   1.000  0  35.168    G\n",
      "307   1.000  1  18.734    G\n",
      "320   0.059  0  36.114    G\n",
      "327   0.768  1  41.221    G\n",
      "329   0.000  0  47.391    G\n",
      "330   0.000  0  33.214    G\n",
      "332   0.000  0  24.269    G\n",
      "333   0.000  0  58.449    G\n",
      "403   0.000  0  15.767    G\n",
      "478   0.000  0  31.904    G\n",
      "480   0.000  1  12.846    G\n",
      "513   0.185  1  34.587    G\n",
      "535   0.000  0  20.249    G\n",
      "...     ... ..     ...  ...\n",
      "1423  0.354  1   4.586    G\n",
      "1430  1.000  0  19.394    G\n",
      "1457  0.019  0  51.394    G\n",
      "1458  0.000  0  47.825    G\n",
      "1562  0.000  0  27.863    G\n",
      "1565  0.464  1   3.798    G\n",
      "1570  0.000  0  39.017    G\n",
      "1572  0.000  0  56.353    G\n",
      "1574  0.000  1  10.534    G\n",
      "1637  0.000  1   5.456    G\n",
      "1638  0.000  1  28.703    G\n",
      "1722  0.707  0   3.890    G\n",
      "1725  0.667  0  33.829    G\n",
      "1731  0.395  0  31.607    G\n",
      "1733  0.436  1   3.014    G\n",
      "1743  0.587  0  11.032    G\n",
      "1747  0.000  0   4.557    G\n",
      "1748  0.047  0  44.307    G\n",
      "1753  1.000  0  82.186    G\n",
      "1759  0.000  0   4.428    G\n",
      "1770  0.020  0  53.692    G\n",
      "1775  0.119  0  15.567    G\n",
      "1776  0.085  0  24.650    G\n",
      "1778  0.045  0  14.818    G\n",
      "1779  0.000  0  16.989    G\n",
      "1781  0.000  1   5.704    G\n",
      "1783  0.000  0  38.894    G\n",
      "1786  0.147  0  22.160    G\n",
      "1795  0.026  0   3.487    G\n",
      "1836  0.387  1  11.908    G\n",
      "\n",
      "[123 rows x 4 columns]\n",
      "0    83\n",
      "1    40\n",
      "Name: y, dtype: int64\n",
      "               x   y          a\n",
      "count  40.000000  40  40.000000\n",
      "mean    0.451625   1  31.959725\n",
      "std     0.389190   0  24.291061\n",
      "min     0.000000   1   3.014000\n",
      "25%     0.129750   1  10.007750\n",
      "50%     0.392000   1  30.094500\n",
      "75%     0.931750   1  51.237750\n",
      "max     1.000000   1  87.697000\n",
      "               x   y          a\n",
      "count  83.000000  83  83.000000\n",
      "mean    0.159096   0  33.157771\n",
      "std     0.275374   0  20.284443\n",
      "min     0.000000   0   3.122000\n",
      "25%     0.000000   0  16.378000\n",
      "50%     0.026000   0  32.180000\n",
      "75%     0.161000   0  47.608000\n",
      "max     1.000000   0  86.462000\n"
     ]
    },
    {
     "data": {
      "image/png": "[encoded data removed]",
      "text/plain": [
       "<matplotlib.figure.Figure at 0x117af5310>"
      ]
     },
     "metadata": {},
     "output_type": "display_data"
    },
    {
     "name": "stdout",
     "output_type": "stream",
     "text": [
      "          x  y       a base\n",
      "46    0.000  0  28.482    G\n",
      "69    0.000  1  13.343    G\n",
      "70    0.235  1  52.373    G\n",
      "73    1.000  1  51.026    G\n",
      "74    1.000  1  52.455    G\n",
      "79    0.468  0  46.092    G\n",
      "81    0.603  1   6.207    G\n",
      "144   0.000  0   9.901    G\n",
      "182   0.331  1  72.333    G\n",
      "183   1.000  1  18.402    G\n",
      "184   0.052  0  54.148    G\n",
      "203   0.000  0  63.683    G\n",
      "205   0.000  0  32.180    G\n",
      "206   0.000  0  56.310    G\n",
      "207   0.000  0  60.130    G\n",
      "208   0.230  0  53.229    G\n",
      "212   0.000  0  57.174    G\n",
      "298   0.000  0  35.168    G\n",
      "307   1.000  1  18.734    G\n",
      "320   0.000  0  36.114    G\n",
      "327   0.000  1  41.221    G\n",
      "329   0.000  0  47.391    G\n",
      "330   0.000  0  33.214    G\n",
      "332   0.000  0  24.269    G\n",
      "333   0.000  0  58.449    G\n",
      "403   0.164  0  15.767    G\n",
      "478   0.450  0  31.904    G\n",
      "480   0.460  1  12.846    G\n",
      "513   0.222  1  34.587    G\n",
      "535   0.000  0  20.249    G\n",
      "...     ... ..     ...  ...\n",
      "1423  0.348  1   4.586    G\n",
      "1430  0.705  0  19.394    G\n",
      "1457  0.141  0  51.394    G\n",
      "1458  0.059  0  47.825    G\n",
      "1562  0.339  0  27.863    G\n",
      "1565  0.561  1   3.798    G\n",
      "1570  0.000  0  39.017    G\n",
      "1572  0.000  0  56.353    G\n",
      "1574  0.000  1  10.534    G\n",
      "1637  0.000  1   5.456    G\n",
      "1638  0.674  1  28.703    G\n",
      "1722  0.078  0   3.890    G\n",
      "1725  0.006  0  33.829    G\n",
      "1731  0.004  0  31.607    G\n",
      "1733  0.013  1   3.014    G\n",
      "1743  0.000  0  11.032    G\n",
      "1747  0.000  0   4.557    G\n",
      "1748  0.000  0  44.307    G\n",
      "1753  0.657  0  82.186    G\n",
      "1759  0.000  0   4.428    G\n",
      "1770  0.000  0  53.692    G\n",
      "1775  0.000  0  15.567    G\n",
      "1776  0.000  0  24.650    G\n",
      "1778  0.040  0  14.818    G\n",
      "1779  0.000  0  16.989    G\n",
      "1781  0.000  1   5.704    G\n",
      "1783  0.000  0  38.894    G\n",
      "1786  0.000  0  22.160    G\n",
      "1795  0.000  0   3.487    G\n",
      "1836  0.492  1  11.908    G\n",
      "\n",
      "[123 rows x 4 columns]\n",
      "0    83\n",
      "1    40\n",
      "Name: y, dtype: int64\n",
      "               x   y          a\n",
      "count  40.000000  40  40.000000\n",
      "mean    0.471950   1  31.959725\n",
      "std     0.375658   0  24.291061\n",
      "min     0.000000   1   3.014000\n",
      "25%     0.144250   1  10.007750\n",
      "50%     0.369000   1  30.094500\n",
      "75%     1.000000   1  51.237750\n",
      "max     1.000000   1  87.697000\n",
      "               x   y          a\n",
      "count  83.000000  83  83.000000\n",
      "mean    0.110072   0  33.157771\n",
      "std     0.226646   0  20.284443\n",
      "min     0.000000   0   3.122000\n",
      "25%     0.000000   0  16.378000\n",
      "50%     0.000000   0  32.180000\n",
      "75%     0.134500   0  47.608000\n",
      "max     1.000000   0  86.462000\n"
     ]
    },
    {
     "data": {
      "image/png": "[encoded data removed]",
      "text/plain": [
       "<matplotlib.figure.Figure at 0x1175a1510>"
      ]
     },
     "metadata": {},
     "output_type": "display_data"
    },
    {
     "name": "stdout",
     "output_type": "stream",
     "text": [
      "          x  y       a base\n",
      "46    0.687  0  28.482    G\n",
      "69    0.000  1  13.343    G\n",
      "70    0.169  1  52.373    G\n",
      "73    1.000  1  51.026    G\n",
      "74    1.000  1  52.455    G\n",
      "79    0.089  0  46.092    G\n",
      "81    0.072  1   6.207    G\n",
      "144   0.000  0   9.901    G\n",
      "182   0.328  1  72.333    G\n",
      "183   0.476  1  18.402    G\n",
      "184   0.162  0  54.148    G\n",
      "203   0.035  0  63.683    G\n",
      "205   0.000  0  32.180    G\n",
      "206   0.000  0  56.310    G\n",
      "207   0.018  0  60.130    G\n",
      "208   0.092  0  53.229    G\n",
      "212   0.000  0  57.174    G\n",
      "298   0.000  0  35.168    G\n",
      "307   0.568  1  18.734    G\n",
      "320   0.000  0  36.114    G\n",
      "327   0.106  1  41.221    G\n",
      "329   0.131  0  47.391    G\n",
      "330   0.000  0  33.214    G\n",
      "332   0.285  0  24.269    G\n",
      "333   0.000  0  58.449    G\n",
      "403   0.000  0  15.767    G\n",
      "478   0.000  0  31.904    G\n",
      "480   0.000  1  12.846    G\n",
      "513   0.119  1  34.587    G\n",
      "535   0.000  0  20.249    G\n",
      "...     ... ..     ...  ...\n",
      "1423  0.000  1   4.586    G\n",
      "1430  0.169  0  19.394    G\n",
      "1457  0.000  0  51.394    G\n",
      "1458  0.000  0  47.825    G\n",
      "1562  0.000  0  27.863    G\n",
      "1565  0.000  1   3.798    G\n",
      "1570  0.000  0  39.017    G\n",
      "1572  0.000  0  56.353    G\n",
      "1574  0.000  1  10.534    G\n",
      "1637  0.000  1   5.456    G\n",
      "1638  0.000  1  28.703    G\n",
      "1722  0.000  0   3.890    G\n",
      "1725  0.000  0  33.829    G\n",
      "1731  0.000  0  31.607    G\n",
      "1733  0.000  1   3.014    G\n",
      "1743  0.000  0  11.032    G\n",
      "1747  0.000  0   4.557    G\n",
      "1748  0.000  0  44.307    G\n",
      "1753  0.000  0  82.186    G\n",
      "1759  0.000  0   4.428    G\n",
      "1770  0.184  0  53.692    G\n",
      "1775  0.000  0  15.567    G\n",
      "1776  0.204  0  24.650    G\n",
      "1778  0.070  0  14.818    G\n",
      "1779  0.352  0  16.989    G\n",
      "1781  0.491  1   5.704    G\n",
      "1783  0.149  0  38.894    G\n",
      "1786  0.000  0  22.160    G\n",
      "1795  0.000  0   3.487    G\n",
      "1836  0.178  1  11.908    G\n",
      "\n",
      "[123 rows x 4 columns]\n",
      "0    83\n",
      "1    40\n",
      "Name: y, dtype: int64\n",
      "               x   y          a\n",
      "count  40.000000  40  40.000000\n",
      "mean    0.164325   1  31.959725\n",
      "std     0.289394   0  24.291061\n",
      "min     0.000000   1   3.014000\n",
      "25%     0.000000   1  10.007750\n",
      "50%     0.000000   1  30.094500\n",
      "75%     0.171250   1  51.237750\n",
      "max     1.000000   1  87.697000\n",
      "               x   y          a\n",
      "count  83.000000  83  83.000000\n",
      "mean    0.052108   0  33.157771\n",
      "std     0.149194   0  20.284443\n",
      "min     0.000000   0   3.122000\n",
      "25%     0.000000   0  16.378000\n",
      "50%     0.000000   0  32.180000\n",
      "75%     0.004000   0  47.608000\n",
      "max     1.000000   0  86.462000\n"
     ]
    },
    {
     "data": {
      "image/png": "[encoded data removed]",
      "text/plain": [
       "<matplotlib.figure.Figure at 0x116aa3f90>"
      ]
     },
     "metadata": {},
     "output_type": "display_data"
    },
    {
     "name": "stdout",
     "output_type": "stream",
     "text": [
      "             x  y       a base\n",
      "46    0.003011  0  28.482    G\n",
      "69    0.006335  1  13.343    G\n",
      "70    0.009828  1  52.373    G\n",
      "73    0.170778  1  51.026    G\n",
      "74    0.326958  1  52.455    G\n",
      "79    0.016789  0  46.092    G\n",
      "81    0.013946  1   6.207    G\n",
      "144   0.006624  0   9.901    G\n",
      "182   0.005107  1  72.333    G\n",
      "183   0.024159  1  18.402    G\n",
      "184   0.002023  0  54.148    G\n",
      "203   0.000650  0  63.683    G\n",
      "205   0.000891  0  32.180    G\n",
      "206   0.001301  0  56.310    G\n",
      "207   0.002120  0  60.130    G\n",
      "208   0.003902  0  53.229    G\n",
      "212   0.003324  0  57.174    G\n",
      "298   0.008960  0  35.168    G\n",
      "307   0.018908  1  18.734    G\n",
      "320   0.001156  0  36.114    G\n",
      "327   0.004263  1  41.221    G\n",
      "329   0.003469  0  47.391    G\n",
      "330   0.001204  0  33.214    G\n",
      "332   0.004239  0  24.269    G\n",
      "333   0.001469  0  58.449    G\n",
      "403   0.001517  0  15.767    G\n",
      "478   0.005540  0  31.904    G\n",
      "480   0.005709  1  12.846    G\n",
      "513   0.009659  1  34.587    G\n",
      "535   0.003228  0  20.249    G\n",
      "...        ... ..     ...  ...\n",
      "1430  0.010454  0  19.394    G\n",
      "1457  0.003396  0  51.394    G\n",
      "1458  0.002144  0  47.825    G\n",
      "1562  0.004577  0  27.863    G\n",
      "1565  0.007901  1   3.798    G\n",
      "1570  0.001782  0  39.017    G\n",
      "1572  0.002216  0  56.353    G\n",
      "1574  0.002240  1  10.534    G\n",
      "1637  0.012838  1   5.456    G\n",
      "1638  0.026785  1  28.703    G\n",
      "1722  0.003974  0   3.890    G\n",
      "1725  0.003758  0  33.829    G\n",
      "1731  0.001638  0  31.607    G\n",
      "1733  0.001614  1   3.014    G\n",
      "1743  0.001204  0  11.032    G\n",
      "1747  0.000578  0   4.557    G\n",
      "1748  0.000289  0  44.307    G\n",
      "1753  0.002457  0  82.186    G\n",
      "1759  0.000361  0   4.428    G\n",
      "1770  0.000674  0  53.692    G\n",
      "1775  0.001156  0  15.567    G\n",
      "1776  0.001012  0  24.650    G\n",
      "1778  0.000530  0  14.818    G\n",
      "1779  0.001325  0  16.989    G\n",
      "1781  0.001108  1   5.704    G\n",
      "1783  0.001204  0  38.894    G\n",
      "1786  0.002216  0  22.160    G\n",
      "1795  0.001879  0   3.487    G\n",
      "1836  0.001253  1  11.908    G\n",
      "1848  0.018957  1   8.148    G\n",
      "\n",
      "[124 rows x 4 columns]\n",
      "0    83\n",
      "1    41\n",
      "Name: y, dtype: int64\n",
      "               x   y          a\n",
      "count  41.000000  41  41.000000\n",
      "mean    0.028108   1  31.378951\n",
      "std     0.065243   0  24.272072\n",
      "min     0.001108   1   3.014000\n",
      "25%     0.004625   1   8.495000\n",
      "50%     0.007901   1  28.703000\n",
      "75%     0.018957   1  51.026000\n",
      "max     0.326958   1  87.697000\n",
      "               x   y          a\n",
      "count  83.000000  83  83.000000\n",
      "mean    0.004547   0  33.157771\n",
      "std     0.005905   0  20.284443\n",
      "min     0.000289   0   3.122000\n",
      "25%     0.001228   0  16.378000\n",
      "50%     0.002216   0  32.180000\n",
      "75%     0.005636   0  47.608000\n",
      "max     0.039744   0  86.462000\n"
     ]
    },
    {
     "data": {
      "image/png": "[encoded data removed]",
      "text/plain": [
       "<matplotlib.figure.Figure at 0x116da3790>"
      ]
     },
     "metadata": {},
     "output_type": "display_data"
    },
    {
     "name": "stdout",
     "output_type": "stream",
     "text": [
      "             x  y       a base\n",
      "46    0.134753  0  28.482    G\n",
      "69    0.022393  1  13.343    G\n",
      "70    0.058718  1  52.373    G\n",
      "73    0.318372  1  51.026    G\n",
      "74    0.314491  1  52.455    G\n",
      "79    0.042993  0  46.092    G\n",
      "81    0.032743  1   6.207    G\n",
      "144   0.021397  0   9.901    G\n",
      "182   0.035530  1  72.333    G\n",
      "183   0.055832  1  18.402    G\n",
      "184   0.027966  0  54.148    G\n",
      "203   0.011644  0  63.683    G\n",
      "205   0.005374  0  32.180    G\n",
      "206   0.008360  0  56.310    G\n",
      "207   0.017217  0  60.130    G\n",
      "208   0.015526  0  53.229    G\n",
      "212   0.052150  0  57.174    G\n",
      "298   0.140327  0  35.168    G\n",
      "307   0.034137  1  18.734    G\n",
      "320   0.032543  0  36.114    G\n",
      "327   0.029159  1  41.221    G\n",
      "329   0.044188  0  47.391    G\n",
      "330   0.016322  0  33.214    G\n",
      "332   0.064689  0  24.269    G\n",
      "333   0.022493  0  58.449    G\n",
      "403   0.006768  0  15.767    G\n",
      "478   0.008858  0  31.904    G\n",
      "480   0.012242  1  12.846    G\n",
      "513   0.024283  1  34.587    G\n",
      "535   0.040307  0  20.249    G\n",
      "...        ... ..     ...  ...\n",
      "1430  0.083300  0  19.394    G\n",
      "1457  0.016719  0  51.394    G\n",
      "1458  0.026373  0  47.825    G\n",
      "1562  0.012142  0  27.863    G\n",
      "1565  0.021397  1   3.798    G\n",
      "1570  0.003981  0  39.017    G\n",
      "1572  0.006966  0  56.353    G\n",
      "1574  0.009056  1  10.534    G\n",
      "1637  0.031847  1   5.456    G\n",
      "1638  0.077528  1  28.703    G\n",
      "1722  0.027468  0   3.890    G\n",
      "1725  0.012639  0  33.829    G\n",
      "1731  0.005374  0  31.607    G\n",
      "1733  0.010749  1   3.014    G\n",
      "1743  0.026274  0  11.032    G\n",
      "1747  0.006867  0   4.557    G\n",
      "1748  0.003384  0  44.307    G\n",
      "1753  0.010749  0  82.186    G\n",
      "1759  0.058618  0   4.428    G\n",
      "1770  0.060410  0  53.692    G\n",
      "1775  0.029060  0  15.567    G\n",
      "1776  0.045482  0  24.650    G\n",
      "1778  0.011246  0  14.818    G\n",
      "1779  0.106390  0  16.989    G\n",
      "1781  0.080115  1   5.704    G\n",
      "1783  0.061605  0  38.894    G\n",
      "1786  0.056429  0  22.160    G\n",
      "1795  0.036723  0   3.487    G\n",
      "1836  0.009455  1  11.908    G\n",
      "1848  0.000000  1   8.148    G\n",
      "\n",
      "[124 rows x 4 columns]\n",
      "0    83\n",
      "1    41\n",
      "Name: y, dtype: int64\n",
      "               x   y          a\n",
      "count  41.000000  41  41.000000\n",
      "mean    0.055735   1  31.378951\n",
      "std     0.089033   0  24.272072\n",
      "min     0.000000   1   3.014000\n",
      "25%     0.016521   1   8.495000\n",
      "50%     0.027966   1  28.703000\n",
      "75%     0.050060   1  51.026000\n",
      "max     0.431429   1  87.697000\n",
      "               x   y          a\n",
      "count  83.000000  83  83.000000\n",
      "mean    0.037334   0  33.157771\n",
      "std     0.065736   0  20.284443\n",
      "min     0.001891   0   3.122000\n",
      "25%     0.009903   0  16.378000\n",
      "50%     0.021397   0  32.180000\n",
      "75%     0.046776   0  47.608000\n",
      "max     0.572254   0  86.462000\n"
     ]
    },
    {
     "data": {
      "image/png": "[encoded data removed]",
      "text/plain": [
       "<matplotlib.figure.Figure at 0x116764d90>"
      ]
     },
     "metadata": {},
     "output_type": "display_data"
    },
    {
     "name": "stdout",
     "output_type": "stream",
     "text": [
      "             x  y       a base\n",
      "46    0.002743  0  28.482    G\n",
      "69    0.006275  1  13.343    G\n",
      "70    0.009361  1  52.373    G\n",
      "73    0.138509  1  51.026    G\n",
      "74    0.092144  1  52.455    G\n",
      "79    0.001998  0  46.092    G\n",
      "81    0.001598  1   6.207    G\n",
      "144   0.002645  0   9.901    G\n",
      "182   0.003922  1  72.333    G\n",
      "183   0.019126  1  18.402    G\n",
      "184   0.001291  0  54.148    G\n",
      "203   0.000646  0  63.683    G\n",
      "205   0.000937  0  32.180    G\n",
      "206   0.001375  0  56.310    G\n",
      "207   0.002226  0  60.130    G\n",
      "208   0.004031  0  53.229    G\n",
      "212   0.003082  0  57.174    G\n",
      "298   0.001987  0  35.168    G\n",
      "307   0.004121  1  18.734    G\n",
      "320   0.000228  0  36.114    G\n",
      "327   0.002926  1  41.221    G\n",
      "329   0.002493  0  47.391    G\n",
      "330   0.000871  0  33.214    G\n",
      "332   0.003305  0  24.269    G\n",
      "333   0.001127  0  58.449    G\n",
      "403   0.001851  0  15.767    G\n",
      "478   0.003061  0  31.904    G\n",
      "480   0.003033  1  12.846    G\n",
      "513   0.006297  1  34.587    G\n",
      "535   0.001356  0  20.249    G\n",
      "...        ... ..     ...  ...\n",
      "1430  0.001303  0  19.394    G\n",
      "1457  0.001024  0  51.394    G\n",
      "1458  0.000666  0  47.825    G\n",
      "1562  0.001467  0  27.863    G\n",
      "1565  0.002582  1   3.798    G\n",
      "1570  0.000499  0  39.017    G\n",
      "1572  0.000630  0  56.353    G\n",
      "1574  0.000658  1  10.534    G\n",
      "1637  0.006862  1   5.456    G\n",
      "1638  0.013377  1  28.703    G\n",
      "1722  0.002755  0   3.890    G\n",
      "1725  0.002760  0  33.829    G\n",
      "1731  0.001473  0  31.607    G\n",
      "1733  0.001640  1   3.014    G\n",
      "1743  0.001985  0  11.032    G\n",
      "1747  0.001267  0   4.557    G\n",
      "1748  0.000671  0  44.307    G\n",
      "1753  0.007532  0  82.186    G\n",
      "1759  0.001388  0   4.428    G\n",
      "1770  0.000986  0  53.692    G\n",
      "1775  0.001670  0  15.567    G\n",
      "1776  0.001439  0  24.650    G\n",
      "1778  0.000734  0  14.818    G\n",
      "1779  0.001842  0  16.989    G\n",
      "1781  0.001531  1   5.704    G\n",
      "1783  0.001740  0  38.894    G\n",
      "1786  0.003302  0  22.160    G\n",
      "1795  0.002666  0   3.487    G\n",
      "1836  0.001979  1  11.908    G\n",
      "1848  0.025334  1   8.148    G\n",
      "\n",
      "[124 rows x 4 columns]\n",
      "0    83\n",
      "1    41\n",
      "Name: y, dtype: int64\n",
      "               x   y          a\n",
      "count  41.000000  41  41.000000\n",
      "mean    0.014624   1  31.378951\n",
      "std     0.035571   0  24.272072\n",
      "min     0.000658   1   3.014000\n",
      "25%     0.001640   1   8.495000\n",
      "50%     0.003922   1  28.703000\n",
      "75%     0.007487   1  51.026000\n",
      "max     0.172070   1  87.697000\n",
      "               x   y          a\n",
      "count  83.000000  83  83.000000\n",
      "mean    0.002579   0  33.157771\n",
      "std     0.002897   0  20.284443\n",
      "min     0.000199   0   3.122000\n",
      "25%     0.001001   0  16.378000\n",
      "50%     0.001740   0  32.180000\n",
      "75%     0.003087   0  47.608000\n",
      "max     0.022949   0  86.462000\n"
     ]
    },
    {
     "data": {
      "image/png": "[encoded data removed]",
      "text/plain": [
       "<matplotlib.figure.Figure at 0x116c75410>"
      ]
     },
     "metadata": {},
     "output_type": "display_data"
    },
    {
     "name": "stdout",
     "output_type": "stream",
     "text": [
      "             x  y       a base\n",
      "46    0.071453  0  28.482    G\n",
      "69    0.009848  1  13.343    G\n",
      "70    0.025883  1  52.373    G\n",
      "73    0.139334  1  51.026    G\n",
      "74    0.129706  1  52.455    G\n",
      "79    0.016993  0  46.092    G\n",
      "81    0.013015  1   6.207    G\n",
      "144   0.009128  0   9.901    G\n",
      "182   0.016062  1  72.333    G\n",
      "183   0.025598  1  18.402    G\n",
      "184   0.012879  0  54.148    G\n",
      "203   0.006306  0  63.683    G\n",
      "205   0.002936  0  32.180    G\n",
      "206   0.004584  0  56.310    G\n",
      "207   0.009484  0  60.130    G\n",
      "208   0.008586  0  53.229    G\n",
      "212   0.030359  0  57.174    G\n",
      "298   0.063824  0  35.168    G\n",
      "307   0.015554  1  18.734    G\n",
      "320   0.017139  0  36.114    G\n",
      "327   0.015842  1  41.221    G\n",
      "329   0.023394  0  47.391    G\n",
      "330   0.008650  0  33.214    G\n",
      "332   0.035356  0  24.269    G\n",
      "333   0.012272  0  58.449    G\n",
      "403   0.004168  0  15.767    G\n",
      "478   0.007319  0  31.904    G\n",
      "480   0.010275  1  12.846    G\n",
      "513   0.020813  1  34.587    G\n",
      "535   0.038679  0  20.249    G\n",
      "...        ... ..     ...  ...\n",
      "1430  0.056150  0  19.394    G\n",
      "1457  0.010595  0  51.394    G\n",
      "1458  0.016773  0  47.825    G\n",
      "1562  0.013722  0  27.863    G\n",
      "1565  0.024908  1   3.798    G\n",
      "1570  0.004431  0  39.017    G\n",
      "1572  0.007987  0  56.353    G\n",
      "1574  0.010425  1  10.534    G\n",
      "1637  0.020289  1   5.456    G\n",
      "1638  0.049476  1  28.703    G\n",
      "1722  0.025905  0   3.890    G\n",
      "1725  0.012716  0  33.829    G\n",
      "1731  0.005835  0  31.607    G\n",
      "1733  0.011986  1   3.014    G\n",
      "1743  0.038750  0  11.032    G\n",
      "1747  0.011493  0   4.557    G\n",
      "1748  0.005728  0  44.307    G\n",
      "1753  0.021791  0  82.186    G\n",
      "1759  0.134226  0   4.428    G\n",
      "1770  0.054956  0  53.692    G\n",
      "1775  0.023731  0  15.567    G\n",
      "1776  0.036776  0  24.650    G\n",
      "1778  0.008729  0  14.818    G\n",
      "1779  0.082379  0  16.989    G\n",
      "1781  0.050271  1   5.704    G\n",
      "1783  0.036058  0  38.894    G\n",
      "1786  0.032070  0  22.160    G\n",
      "1795  0.019798  0   3.487    G\n",
      "1836  0.014081  1  11.908    G\n",
      "1848  0.000000  1   8.148    G\n",
      "\n",
      "[124 rows x 4 columns]\n",
      "0    83\n",
      "1    41\n",
      "Name: y, dtype: int64\n",
      "               x   y          a\n",
      "count  41.000000  41  41.000000\n",
      "mean    0.038029   1  31.378951\n",
      "std     0.070448   0  24.272072\n",
      "min     0.000000   1   3.014000\n",
      "25%     0.012323   1   8.495000\n",
      "50%     0.019764   1  28.703000\n",
      "75%     0.033535   1  51.026000\n",
      "max     0.440334   1  87.697000\n",
      "               x   y          a\n",
      "count  83.000000  83  83.000000\n",
      "mean    0.028610   0  33.157771\n",
      "std     0.045304   0  20.284443\n",
      "min     0.001832   0   3.122000\n",
      "25%     0.008425   0  16.378000\n",
      "50%     0.016993   0  32.180000\n",
      "75%     0.036562   0  47.608000\n",
      "max     0.384090   0  86.462000\n"
     ]
    },
    {
     "data": {
      "image/png": "[encoded data removed]",
      "text/plain": [
       "<matplotlib.figure.Figure at 0x11767cc50>"
      ]
     },
     "metadata": {},
     "output_type": "display_data"
    }
   ],
   "source": [
    "filelist = ['kethoxal', 'kethoxal_notreat', 'icshape', 'kethoxal(RT)', 'icshape(RT)', 'kethoxal(RT/BD)', 'icshape(RT/BD)']\n",
    "\n",
    "X_test = [kethoxal_df, kethoxal_notreat_df, icshape_df, kethoxal_rt_df, icshape_rt_df, kethoxal_rt_div_bd_df, icshape_rt_div_bd_df]\n",
    "\n",
    "filelist = filelist[0:]\n",
    "X_test = X_test[0:]\n",
    "\n",
    "fpr_list = []\n",
    "tpr_list = []\n",
    "roc_auc_list = []\n",
    "\n",
    "for i in range(len(X_test)):\n",
    "    X_test[i]['y'] = mouse_ct_18S_new\n",
    "    X_test[i]['a'] = pd.Series(mouse_acces_ls)\n",
    "    X_test[i]['base'] = list(fa_dict_rRNA_mouse['18S'])\n",
    "    X_clean = X_test[i].dropna()\n",
    "    X_select = X_clean[X_clean.a>=3]\n",
    "    X_select = X_select[X_select['x']>=0]\n",
    "    X_select = X_select[X_select['base']=='G']\n",
    "    print X_select\n",
    "    print X_select['y'].value_counts()\n",
    "    fpr,tpr,_ = roc_curve(X_select['y'],X_select['x'])\n",
    "    ml_125_ss = X_select[X_select.y==1]\n",
    "    ml_125_ds = X_select[X_select.y==0]\n",
    "    print(ml_125_ss.describe())\n",
    "    print(ml_125_ds.describe())\n",
    "    sns.distplot(ml_125_ss.dropna()['x'],norm_hist=True,kde=False, bins=10)\n",
    "    sns.distplot(ml_125_ds.dropna()['x'],norm_hist=True,kde=False, bins=10)\n",
    "    plt.title(filelist[i])\n",
    "    plt.show()\n",
    "    fpr_list.append(fpr)\n",
    "    tpr_list.append(tpr)\n",
    "    roc_auc_list.append(auc(fpr_list[i],tpr_list[i]))"
   ]
  },
  {
   "cell_type": "code",
   "execution_count": 61,
   "metadata": {},
   "outputs": [
    {
     "name": "stdout",
     "output_type": "stream",
     "text": [
      "0\n",
      "1\n",
      "2\n",
      "3\n",
      "4\n",
      "5\n",
      "6\n"
     ]
    },
    {
     "data": {
      "text/plain": [
       "<matplotlib.figure.Figure at 0x117421150>"
      ]
     },
     "metadata": {},
     "output_type": "display_data"
    },
    {
     "data": {
      "image/png": "[encoded data removed]",
      "text/plain": [
       "<matplotlib.figure.Figure at 0x117551c10>"
      ]
     },
     "metadata": {},
     "output_type": "display_data"
    }
   ],
   "source": [
    "plt.figure()\n",
    "lw = 2\n",
    "\n",
    "# filelist = ['kethoxal', 'icshape']\n",
    "with sns.axes_style(\"ticks\"):\n",
    "    fig,ax=plt.subplots(figsize=(6,6))\n",
    "for i in range(len(X_test)):\n",
    "    print (i)\n",
    "    if i > 10:\n",
    "        continue\n",
    "    plt.plot(fpr_list[i],tpr_list[i],lw = lw,label = '%s (area = %0.2f)' %(filelist[i],roc_auc_list[i]))\n",
    "plt.plot([-0.05, 1.05], [-0.05, 1.05], color='black', lw=lw, linestyle='--',label='Luck')\n",
    "ax.axis('square')\n",
    "plt.xlim([-0.05, 1.05])\n",
    "plt.ylim([-0.05, 1.05])\n",
    "plt.xlabel('False Positive Rate')\n",
    "plt.ylabel('True Positive Rate')\n",
    "plt.title('ROC curve')\n",
    "plt.legend(bbox_to_anchor=(1, 1), loc=2)\n",
    "# plt.legend(loc='best')\n",
    "# plt.show()\n",
    "# plt.tight_layout()\n",
    "plt.savefig('18s_AUC.pdf')"
   ]
  },
  {
   "cell_type": "code",
   "execution_count": 77,
   "metadata": {},
   "outputs": [
    {
     "name": "stdout",
     "output_type": "stream",
     "text": [
      "300 300 300\n"
     ]
    }
   ],
   "source": [
    "out_dict_kethoxal_SRP = read_icshape_out('kethoxalseq_noTreat.T1t20.ENSMUST00000174924.2.out')\n",
    "out_dict_icshape_SRP = read_icshape_out('icshape.ENSMUST00000174924.out')\n",
    "out_dict_CIRSseq_SRP = read_icshape_out('CIRSseq.ENSMUST00000174924.out')\n",
    "\n",
    "kethoxal_SRP = out_dict_kethoxal_SRP['ENSMUST00000174924']['reactivity_ls']\n",
    "icshape_SRP = out_dict_icshape_SRP['ENSMUST00000174924']['reactivity_ls']\n",
    "CIRSseq_SRP = out_dict_CIRSseq_SRP['ENSMUST00000174924']['reactivity_ls']\n",
    "\n",
    "print len(kethoxal_SRP), len(icshape_SRP), len(CIRSseq_SRP)\n",
    "\n",
    "kethoxal_SRP = [np.nan if i == 'NULL' else float(i) for i in kethoxal_SRP]\n",
    "kethoxal_df_SRP = pd.DataFrame({'x':kethoxal_SRP})\n",
    "\n",
    "icshape_SRP = [np.nan if i == 'NULL' else float(i) for i in icshape_SRP]\n",
    "icshape_df_SRP = pd.DataFrame({'x':icshape_SRP})\n",
    "\n",
    "CIRSseq_SRP = [np.nan if i == 'NULL' else float(i) for i in CIRSseq_SRP]\n",
    "CIRSseq_df_SRP = pd.DataFrame({'x':CIRSseq_SRP})"
   ]
  },
  {
   "cell_type": "code",
   "execution_count": 55,
   "metadata": {},
   "outputs": [
    {
     "name": "stdout",
     "output_type": "stream",
     "text": [
      "GCCGGGCGCGGTGGCGCACGCCTGTAGTCCCAGCTACTCGGGAGGCTGAGACAGGAGGATCGCTTGAGTCCAGGAGTTCTGGGCTGTAGTGCGCTATGCCGATCGGGTGTCCGCACTAAGTTCGGCATCAATATGGTGACCTCCCGGGAGCGGGGGACCACCAGGTTGCCTAAGGAGGGGTGAACCGGCCCAGGTCGGAAACGGAGCAGGTCAAAACTCCCGTGCTGATCAGTAGTGGGATCGCGCCTGTGAATAGCCACTGCACTCCAGCCTGGGCAACATAGCGAGACCCCGTCTCTTTT 302\n",
      "((((((((.(......).)))))....((((........))))))).(((((.((....(((((...(((((((....(((((.(((((((.(((((.(....(((((((((.(((((.(.(((((((((((.(((((..((((((....))))))..))))).))))((...)).(((((.....((((....(((....)))....))))...))))).))))))).)..)))))))...))))))).).)))))))))))).)))))))))))).....)))))...)).))))).... 302\n",
      "['0', '0', '0', '0', '0', '0', '0', '0', '1', '0', '1', '1', '1', '1', '1', '1', '0', '1', '0', '0', '0', '0', '0', '1', '1', '1', '1', '0', '0', '0', '0', '1', '1', '1', '1', '1', '1', '1', '1', '0', '0', '0', '0', '0', '0', '0', '1', '0', '0', '0', '0', '0', '1', '0', '0', '1', '1', '1', '1', '0', '0', '0', '0', '0', '1', '1', '1', '0', '0', '0', '0', '0', '0', '0', '1', '1', '1', '1', '0', '0', '0', '0', '0', '1', '0', '0', '0', '0', '0', '0', '0', '1', '0', '0', '0', '0', '0', '1', '0', '1', '1', '1', '1', '0', '0', '0', '0', '0', '0', '0', '0', '0', '1', '0', '0', '0', '0', '0', '1', '0', '1', '0', '0', '0', '0', '0', '0', '0', '0', '0', '0', '0', '1', '0', '0', '0', '0', '0', '1', '1', '0', '0', '0', '0', '0', '0', '1', '1', '1', '1', '0', '0', '0', '0', '0', '0', '1', '1', '0', '0', '0', '0', '0', '1', '0', '0', '0', '0', '0', '0', '1', '1', '1', '0', '0', '1', '0', '0', '0', '0', '0', '1', '1', '1', '1', '1', '0', '0', '0', '0', '1', '1', '1', '1', '0', '0', '0', '1', '1', '1', '1', '0', '0', '0', '1', '1', '1', '1', '0', '0', '0', '0', '1', '1', '1', '0', '0', '0', '0', '0', '1', '0', '0', '0', '0', '0', '0', '0', '1', '0', '1', '1', '0', '0', '0', '0', '0', '0', '0', '1', '1', '1', '0', '0', '0', '0', '0', '0', '0', '1', '0', '1', '0', '0', '0', '0', '0', '0', '0', '0', '0', '0', '0', '0', '1', '0', '0', '0', '0', '0', '0', '0', '0', '0', '0', '0', '0', '1', '1', '1', '1', '1', '0', '0', '0', '0', '0', '1', '1', '1', '0', '0', '1', '0', '0', '0', '0', '0', '1', '1', '1', '1'] 302\n"
     ]
    }
   ],
   "source": [
    "dot_dict_SRP = read_dot('./RNAstrand/mouse_SRP.dot')\n",
    "print dot_dict_SRP['seq'], len(dot_dict_SRP['seq'])\n",
    "print dot_dict_SRP['dotbracket'], len(dot_dict_SRP['dotbracket'])\n",
    "\n",
    "dot_dict_SRP_new = list(dot_dict_SRP['dotbracket'].replace('.','1').replace('(','0').replace(')','0'))\n",
    "print dot_dict_SRP_new, len(dot_dict_SRP_new)"
   ]
  },
  {
   "cell_type": "code",
   "execution_count": 79,
   "metadata": {},
   "outputs": [
    {
     "name": "stdout",
     "output_type": "stream",
     "text": [
      "GCCGGGCGCGGTGGCGCACGCCTGTAGTCCCAGCTACTCGGGAGGCTGAGACAGGAGGATCGCTTGAGTCCAGGAGTTCTGGGCTGTAGTGCGCTATGCCGATCGGGTGTCCGCACTAAGTTCGGCATCAATATGGTGACCTCCCGGGAGCGGGGGACCACCAGGTTGCCTAAGGAGGGGTGAACCGGCCCAGGTCGGAAACGGAGCAGGTCAAAACTCCCGTGCTGATCAGTAGTGGGATCGCGCCTGTGAATAGCCACTGCACTCCAGCCTGGGCAACATAGCGAGACCCCGTCTCTT 300\n"
     ]
    }
   ],
   "source": [
    "fa_dict_SRP = Fasta('ENSMUST00000174924.2.fa', key_fn=lambda key:key.split(\"\\t\")[0])\n",
    "print fa_dict_SRP['ENSMUST00000174924.2'], len(fa_dict_SRP['ENSMUST00000174924.2'])"
   ]
  },
  {
   "cell_type": "code",
   "execution_count": 80,
   "metadata": {},
   "outputs": [
    {
     "name": "stdout",
     "output_type": "stream",
     "text": [
      "    x  y\n",
      "0 NaN  0\n",
      "1 NaN  0\n",
      "2 NaN  0\n",
      "3 NaN  0\n",
      "4 NaN  0\n"
     ]
    }
   ],
   "source": [
    "print kethoxal_df_SRP.head()\n",
    "# print icshape_df_SRP['x']"
   ]
  },
  {
   "cell_type": "code",
   "execution_count": 81,
   "metadata": {
    "scrolled": true
   },
   "outputs": [
    {
     "name": "stdout",
     "output_type": "stream",
     "text": [
      "        x  y base\n",
      "7   0.000  0    G\n",
      "9   0.000  0    G\n",
      "10  0.194  1    G\n",
      "12  0.360  1    G\n",
      "13  0.571  1    G\n",
      "0    68\n",
      "1    24\n",
      "Name: y, dtype: int64\n",
      "               x   y\n",
      "count  24.000000  24\n",
      "mean    0.494375   1\n",
      "std     0.401397   0\n",
      "min     0.000000   1\n",
      "25%     0.096750   1\n",
      "50%     0.443500   1\n",
      "75%     1.000000   1\n",
      "max     1.000000   1\n",
      "               x   y\n",
      "count  68.000000  68\n",
      "mean    0.264588   0\n",
      "std     0.351116   0\n",
      "min     0.000000   0\n",
      "25%     0.000000   0\n",
      "50%     0.068000   0\n",
      "75%     0.392250   0\n",
      "max     1.000000   0\n"
     ]
    },
    {
     "data": {
      "image/png": "[encoded data removed]",
      "text/plain": [
       "<matplotlib.figure.Figure at 0x117104910>"
      ]
     },
     "metadata": {},
     "output_type": "display_data"
    },
    {
     "name": "stdout",
     "output_type": "stream",
     "text": [
      "        x  y base\n",
      "7   0.485  0    G\n",
      "9   0.761  0    G\n",
      "10  0.134  1    G\n",
      "12  0.246  1    G\n",
      "13  0.859  1    G\n",
      "0    68\n",
      "1    24\n",
      "Name: y, dtype: int64\n",
      "               x   y\n",
      "count  24.000000  24\n",
      "mean    0.284208   1\n",
      "std     0.281708   0\n",
      "min     0.000000   1\n",
      "25%     0.087750   1\n",
      "50%     0.149500   1\n",
      "75%     0.393000   1\n",
      "max     1.000000   1\n",
      "               x   y\n",
      "count  68.000000  68\n",
      "mean    0.194515   0\n",
      "std     0.168277   0\n",
      "min     0.000000   0\n",
      "25%     0.070750   0\n",
      "50%     0.151500   0\n",
      "75%     0.293000   0\n",
      "max     0.761000   0\n"
     ]
    },
    {
     "data": {
      "image/png": "[encoded data removed]",
      "text/plain": [
       "<matplotlib.figure.Figure at 0x117215410>"
      ]
     },
     "metadata": {},
     "output_type": "display_data"
    },
    {
     "name": "stdout",
     "output_type": "stream",
     "text": [
      "       x  y base\n",
      "0  0.828  0    G\n",
      "3  0.223  0    G\n",
      "4  0.187  0    G\n",
      "5  0.498  0    G\n",
      "7  0.598  0    G\n",
      "0    54\n",
      "1    18\n",
      "Name: y, dtype: int64\n",
      "               x   y\n",
      "count  18.000000  18\n",
      "mean    0.336944   1\n",
      "std     0.221870   0\n",
      "min     0.072000   1\n",
      "25%     0.184750   1\n",
      "50%     0.289500   1\n",
      "75%     0.462500   1\n",
      "max     0.900000   1\n",
      "               x   y\n",
      "count  54.000000  54\n",
      "mean    0.383185   0\n",
      "std     0.267648   0\n",
      "min     0.039000   0\n",
      "25%     0.213500   0\n",
      "50%     0.295000   0\n",
      "75%     0.492500   0\n",
      "max     1.000000   0\n"
     ]
    },
    {
     "data": {
      "image/png": "[encoded data removed]",
      "text/plain": [
       "<matplotlib.figure.Figure at 0x117314e50>"
      ]
     },
     "metadata": {},
     "output_type": "display_data"
    }
   ],
   "source": [
    "filelist = ['kethoxal', 'icshape', 'CIRSseq']\n",
    "\n",
    "X_test = [kethoxal_df_SRP, icshape_df_SRP, CIRSseq_df_SRP]\n",
    "\n",
    "fpr_list = []\n",
    "tpr_list = []\n",
    "roc_auc_list = []\n",
    "\n",
    "for i in range(len(X_test)):\n",
    "    X_test[i]['y'] = map(int, dot_dict_SRP_new[0:300])\n",
    "    X_test[i]['base'] = list(fa_dict_SRP['ENSMUST00000174924.2'])\n",
    "    X_clean = X_test[i].dropna()\n",
    "    X_select = X_clean[X_clean['x']>=0]\n",
    "    X_select = X_select[X_select['base']=='G']\n",
    "    print X_select.head()\n",
    "    print X_select['y'].value_counts()\n",
    "    fpr,tpr,_ = roc_curve(X_select['y'],X_select['x'])\n",
    "    ml_125_ss = X_select[X_select.y==1]\n",
    "    ml_125_ds = X_select[X_select.y==0]\n",
    "    print(ml_125_ss.describe())\n",
    "    print(ml_125_ds.describe())\n",
    "    sns.distplot(ml_125_ss.dropna()['x'],norm_hist=True,kde=False, bins=10)\n",
    "    sns.distplot(ml_125_ds.dropna()['x'],norm_hist=True,kde=False, bins=10)\n",
    "    plt.title(filelist[i])\n",
    "    plt.show()\n",
    "    fpr_list.append(fpr)\n",
    "    tpr_list.append(tpr)\n",
    "    roc_auc_list.append(auc(fpr_list[i],tpr_list[i]))"
   ]
  },
  {
   "cell_type": "code",
   "execution_count": 82,
   "metadata": {},
   "outputs": [
    {
     "name": "stdout",
     "output_type": "stream",
     "text": [
      "0\n",
      "1\n",
      "2\n"
     ]
    },
    {
     "data": {
      "text/plain": [
       "<matplotlib.figure.Figure at 0x116ffe0d0>"
      ]
     },
     "metadata": {},
     "output_type": "display_data"
    },
    {
     "data": {
      "image/png": "[encoded data removed]",
      "text/plain": [
       "<matplotlib.figure.Figure at 0x116ffef90>"
      ]
     },
     "metadata": {},
     "output_type": "display_data"
    }
   ],
   "source": [
    "plt.figure()\n",
    "lw = 2\n",
    "\n",
    "filelist = ['kethoxal', 'icshape', 'CIRSseq']\n",
    "with sns.axes_style(\"ticks\"):\n",
    "    fig,ax=plt.subplots(figsize=(6,6))\n",
    "for i in range(len(X_test)):\n",
    "    print (i)\n",
    "    plt.plot(fpr_list[i],tpr_list[i],lw = lw,label = '%s (area = %0.2f)' %(filelist[i],roc_auc_list[i]))\n",
    "plt.plot([-0.05, 1.05], [-0.05, 1.05], color='black', lw=lw, linestyle='--',label='Luck')\n",
    "plt.xlim([-0.05, 1.05])\n",
    "plt.ylim([-0.05, 1.05])\n",
    "plt.xlabel('False Positive Rate')\n",
    "plt.ylabel('True Positive Rate')\n",
    "plt.title('ROC curve')\n",
    "# plt.legend(bbox_to_anchor=(1, 1), loc=2)\n",
    "plt.legend(loc='best')\n",
    "# plt.show()\n",
    "plt.tight_layout()\n",
    "plt.savefig('SRP_AUC.pdf')"
   ]
  },
  {
   "cell_type": "code",
   "execution_count": 86,
   "metadata": {},
   "outputs": [
    {
     "name": "stdout",
     "output_type": "stream",
     "text": [
      "319 319 319\n"
     ]
    }
   ],
   "source": [
    "out_dict_kethoxal_Riob = read_icshape_out('kethoxalseq_noTreat.T1t20.ENSMUST00000175096.1.out')\n",
    "out_dict_icshape_Riob = read_icshape_out('icshape.ENSMUST00000175096.out')\n",
    "out_dict_CIRSseq_Riob = read_icshape_out('CIRSseq.ENSMUST00000175096.out')\n",
    "\n",
    "kethoxal_Riob = out_dict_kethoxal_Riob['ENSMUST00000175096']['reactivity_ls']\n",
    "icshape_Riob = out_dict_icshape_Riob['ENSMUST00000175096']['reactivity_ls']\n",
    "CIRSseq_Riob = out_dict_CIRSseq_Riob['ENSMUST00000175096']['reactivity_ls']\n",
    "\n",
    "print len(kethoxal_Riob), len(icshape_Riob), len(CIRSseq_Riob)\n",
    "\n",
    "kethoxal_Riob = [np.nan if i == 'NULL' else float(i) for i in kethoxal_Riob]\n",
    "kethoxal_df_Riob = pd.DataFrame({'x':kethoxal_Riob})\n",
    "\n",
    "icshape_Riob = [np.nan if i == 'NULL' else float(i) for i in icshape_Riob]\n",
    "icshape_df_Riob = pd.DataFrame({'x':icshape_Riob})\n",
    "\n",
    "CIRSseq_Riob = [np.nan if i == 'NULL' else float(i) for i in CIRSseq_Riob]\n",
    "CIRSseq_df_Riob = pd.DataFrame({'x':CIRSseq_Riob})"
   ]
  },
  {
   "cell_type": "code",
   "execution_count": 60,
   "metadata": {},
   "outputs": [
    {
     "name": "stdout",
     "output_type": "stream",
     "text": [
      "AGTGGGCGGAGGAAGCTCATCAGCGGGGCCACGTGCTGAGTGCTCGTCACTCTTCGGCCCCTGGGAAGGTCTGAGACTNGGGCCTCCCGCGGCCCTAACCGGGCTCTCCCCGAGCGGGGAGGTGAGTTCCCAGAGAGCAGGGCTCTACGCTTGGGCAGACTGGGCAGGAGAAAAGGCCCCGAGTTCGGGGCGGATGCCTCCCTCGCCGGAGCTTGGAACAGACTCACGGCCAGCAGTGCGAGTTCAATGGCTGAGGTGAGGCACCTCCCGGGCCTCATAACCCAATTCA 289\n",
      "...............((((.((..(((((........(((((.....)))))....)))))))........<<<<.....((((......(((((.....)))))((((((....))))))(((((((...........(((....................................................................))).......)))))))))))....................))))((((((((.(....))))))))).......>>>> 289\n"
     ]
    }
   ],
   "source": [
    "dot_dict_Riob = read_dot('./RNAstrand/mouse_RiboRRNA.dot')\n",
    "print dot_dict_Riob['seq'], len(dot_dict_Riob['seq'])\n",
    "print dot_dict_Riob['dotbracket'], len(dot_dict_Riob['dotbracket'])\n",
    "\n",
    "# dot_dict_SRP_new = list(dot_dict_SRP['dotbracket'].replace('.','1').replace('(','0').replace(')','0'))\n",
    "# print dot_dict_SRP_new, len(dot_dict_SRP_new)"
   ]
  },
  {
   "cell_type": "code",
   "execution_count": 73,
   "metadata": {
    "scrolled": false
   },
   "outputs": [
    {
     "name": "stdout",
     "output_type": "stream",
     "text": [
      "converted 1 302\n",
      "319\n"
     ]
    }
   ],
   "source": [
    "fa = 'GGCGGAGGAAGCTCATCAGCGGGGCCACGTGCTGAGTGCGTGTCACTCTTCGGCCCCTGGGAAGGTCTGAGACTTGGGCCTCCCGCGGCCCTAACCGGGCTCTCCCCGAGCGGGGAGGTGAGTTCCCAGAGAGCAGGGCTCTACGCTTGGGCAGACTGGGCAGGAGAAGCCCCGAGTCGGGGCGGATGCCTCCCTCGCCGGAGCGGATGCCTCCCTCGCCGGAGCTTGGAACAGACTCACGGCCAGCAGTGCGAGTTCAATGGCTGAGGTGAGGCACCTCCCGGGCCTCATAACCCAATTCA'\n",
    "dot= 'GGCGGAGGAAGCTCATCAGCGGGGCCACGTGCTGAGTGCTCGTCACTCTTCGGCCCCTGGGAAGGTCTGAGACTNGGGCCTCCCGCGGCCCTAACCGGGCTCTCCCCGAGCGGGGAGGTGAGTTCCCAGAGAGCAGGGCTCTACGCTTGGGCAGACTGGGCAGGAGAAAA---G-GCCC---CG-A-G--T---TCG--GG-GCGGATGCCTCCCTCGCCGGAGCTTGGAACAGACTCACGGCCAGCAGTGCGAGTTCAATGGCTGAGGTGAGGCACCTCCCGGGCCTCATAACCCAATTCA'\n",
    "\n",
    "# a_ls = list(accessibility['c'])\n",
    "# print \"original\", len(a_ls)\n",
    "\n",
    "dot_dict_Riob_new = list(dot_dict_Riob['dotbracket'].replace('.','1').replace('(','0').replace(')','0').replace('>','0').replace('<','0'))\n",
    "\n",
    "new_ls = []\n",
    "\n",
    "n = 0\n",
    "for i,j in zip(fa, dot):\n",
    "    if j != '-':\n",
    "        n += 1\n",
    "#         print n\n",
    "    if i != '-':\n",
    "        if j == '-':\n",
    "            new_ls.append('1')\n",
    "        else:\n",
    "            new_ls.append(dot_dict_Riob_new[4:][n-1])\n",
    "    \n",
    "print \"converted 1\", len(new_ls)\n",
    "\n",
    "dot_dict_Riob_new = new_ls + ['1']*17\n",
    "print len(dot_dict_Riob_new)"
   ]
  },
  {
   "cell_type": "code",
   "execution_count": 83,
   "metadata": {},
   "outputs": [
    {
     "name": "stdout",
     "output_type": "stream",
     "text": [
      "GGCGGAGGAAGCTCATCAGCGGGGCCACGTGCTGAGTGCGTGTCACTCTTCGGCCCCTGGGAAGGTCTGAGACTTGGGCCTCCCGCGGCCCTAACCGGGCTCTCCCCGAGCGGGGAGGTGAGTTCCCAGAGAGCAGGGCTCTACGCTTGGGCAGACTGGGCAGGAGAAGCCCCGAGTCGGGGCGGATGCCTCCCTCGCCGGAGCGGATGCCTCCCTCGCCGGAGCTTGGAACAGACTCACGGCCAGCAGTGCGAGTTCAATGGCTGAGGTGAGGCACCTCCCGGGCCTCATAACCCAATTCAGACTACTCTCCCCCGCC 319\n"
     ]
    }
   ],
   "source": [
    "fa_dict_Ribo = Fasta('ENSMUST00000175096.1.fa', key_fn=lambda key:key.split(\"\\t\")[0])\n",
    "print fa_dict_Ribo['ENSMUST00000175096.1'], len(fa_dict_Ribo['ENSMUST00000175096.1'])"
   ]
  },
  {
   "cell_type": "code",
   "execution_count": 87,
   "metadata": {
    "scrolled": false
   },
   "outputs": [
    {
     "name": "stdout",
     "output_type": "stream",
     "text": [
      "        x  y base\n",
      "6   0.000  1    G\n",
      "7   0.000  1    G\n",
      "10  0.317  1    G\n",
      "18  0.000  1    G\n",
      "20  0.000  0    G\n",
      "1    35\n",
      "0    31\n",
      "Name: y, dtype: int64\n",
      "               x   y\n",
      "count  35.000000  35\n",
      "mean    0.274400   1\n",
      "std     0.360911   0\n",
      "min     0.000000   1\n",
      "25%     0.000000   1\n",
      "50%     0.111000   1\n",
      "75%     0.482000   1\n",
      "max     1.000000   1\n",
      "               x   y\n",
      "count  31.000000  31\n",
      "mean    0.146065   0\n",
      "std     0.254470   0\n",
      "min     0.000000   0\n",
      "25%     0.000000   0\n",
      "50%     0.000000   0\n",
      "75%     0.250000   0\n",
      "max     1.000000   0\n"
     ]
    },
    {
     "data": {
      "image/png": "[encoded data removed]",
      "text/plain": [
       "<matplotlib.figure.Figure at 0x117aa56d0>"
      ]
     },
     "metadata": {},
     "output_type": "display_data"
    },
    {
     "name": "stdout",
     "output_type": "stream",
     "text": [
      "        x  y base\n",
      "6   0.659  1    G\n",
      "7   0.273  1    G\n",
      "10  0.427  1    G\n",
      "18  0.152  1    G\n",
      "20  0.000  0    G\n",
      "1    60\n",
      "0    42\n",
      "Name: y, dtype: int64\n",
      "               x   y\n",
      "count  60.000000  60\n",
      "mean    0.231350   1\n",
      "std     0.222585   0\n",
      "min     0.000000   1\n",
      "25%     0.052750   1\n",
      "50%     0.150500   1\n",
      "75%     0.355500   1\n",
      "max     0.905000   1\n",
      "               x   y\n",
      "count  42.000000  42\n",
      "mean    0.178619   0\n",
      "std     0.191663   0\n",
      "min     0.000000   0\n",
      "25%     0.041000   0\n",
      "50%     0.103500   0\n",
      "75%     0.229500   0\n",
      "max     0.747000   0\n"
     ]
    },
    {
     "data": {
      "image/png": "[encoded data removed]",
      "text/plain": [
       "<matplotlib.figure.Figure at 0x116912c90>"
      ]
     },
     "metadata": {},
     "output_type": "display_data"
    },
    {
     "name": "stdout",
     "output_type": "stream",
     "text": [
      "       x  y base\n",
      "0  1.000  1    G\n",
      "1  0.550  1    G\n",
      "3  0.571  1    G\n",
      "4  0.280  1    G\n",
      "6  0.245  1    G\n",
      "1    46\n",
      "0    35\n",
      "Name: y, dtype: int64\n",
      "               x   y\n",
      "count  46.000000  46\n",
      "mean    0.330174   1\n",
      "std     0.224750   0\n",
      "min     0.020000   1\n",
      "25%     0.211250   1\n",
      "50%     0.295000   1\n",
      "75%     0.370000   1\n",
      "max     1.000000   1\n",
      "               x   y\n",
      "count  35.000000  35\n",
      "mean    0.237857   0\n",
      "std     0.166484   0\n",
      "min     0.012000   0\n",
      "25%     0.118000   0\n",
      "50%     0.206000   0\n",
      "75%     0.315000   0\n",
      "max     0.703000   0\n"
     ]
    },
    {
     "data": {
      "image/png": "[encoded data removed]",
      "text/plain": [
       "<matplotlib.figure.Figure at 0x1173f75d0>"
      ]
     },
     "metadata": {},
     "output_type": "display_data"
    }
   ],
   "source": [
    "filelist = ['kethoxal', 'icshape', 'CIRSseq']\n",
    "\n",
    "X_test = [kethoxal_df_Riob, icshape_df_Riob, CIRSseq_df_Riob]\n",
    "\n",
    "fpr_list = []\n",
    "tpr_list = []\n",
    "roc_auc_list = []\n",
    "\n",
    "for i in range(len(X_test)):\n",
    "    X_test[i]['y'] = map(int, dot_dict_Riob_new)\n",
    "    X_test[i]['base'] = list(fa_dict_Ribo['ENSMUST00000175096.1'])\n",
    "    X_clean = X_test[i].dropna()\n",
    "    X_select = X_clean[X_clean['x']>=0]\n",
    "    X_select = X_select[X_select['base']=='G']\n",
    "    print X_select.head()\n",
    "    print X_select['y'].value_counts()\n",
    "    fpr,tpr,_ = roc_curve(X_select['y'],X_select['x'])\n",
    "    ml_125_ss = X_select[X_select.y==1]\n",
    "    ml_125_ds = X_select[X_select.y==0]\n",
    "    print(ml_125_ss.describe())\n",
    "    print(ml_125_ds.describe())\n",
    "    sns.distplot(ml_125_ss.dropna()['x'],norm_hist=True,kde=False, bins=10)\n",
    "    sns.distplot(ml_125_ds.dropna()['x'],norm_hist=True,kde=False, bins=10)\n",
    "    plt.title(filelist[i])\n",
    "    plt.show()\n",
    "    fpr_list.append(fpr)\n",
    "    tpr_list.append(tpr)\n",
    "    roc_auc_list.append(auc(fpr_list[i],tpr_list[i]))"
   ]
  },
  {
   "cell_type": "code",
   "execution_count": 88,
   "metadata": {},
   "outputs": [
    {
     "name": "stdout",
     "output_type": "stream",
     "text": [
      "0\n",
      "1\n",
      "2\n"
     ]
    },
    {
     "data": {
      "text/plain": [
       "<matplotlib.figure.Figure at 0x116931f50>"
      ]
     },
     "metadata": {},
     "output_type": "display_data"
    },
    {
     "data": {
      "image/png": "[encoded data removed]",
      "text/plain": [
       "<matplotlib.figure.Figure at 0x116931590>"
      ]
     },
     "metadata": {},
     "output_type": "display_data"
    }
   ],
   "source": [
    "plt.figure()\n",
    "lw = 2\n",
    "\n",
    "filelist = ['kethoxal', 'icshape', 'CIRSseq']\n",
    "with sns.axes_style(\"ticks\"):\n",
    "    fig,ax=plt.subplots(figsize=(6,6))\n",
    "for i in range(len(X_test)):\n",
    "    print (i)\n",
    "    plt.plot(fpr_list[i],tpr_list[i],lw = lw,label = '%s (area = %0.2f)' %(filelist[i],roc_auc_list[i]))\n",
    "plt.plot([-0.05, 1.05], [-0.05, 1.05], color='black', lw=lw, linestyle='--',label='Luck')\n",
    "plt.xlim([-0.05, 1.05])\n",
    "plt.ylim([-0.05, 1.05])\n",
    "plt.xlabel('False Positive Rate')\n",
    "plt.ylabel('True Positive Rate')\n",
    "plt.title('ROC curve')\n",
    "# plt.legend(bbox_to_anchor=(1, 1), loc=2)\n",
    "plt.legend(loc='best')\n",
    "# plt.show()\n",
    "plt.tight_layout()\n",
    "plt.savefig('Ribo_AUC.pdf')"
   ]
  },
  {
   "cell_type": "code",
   "execution_count": 62,
   "metadata": {
    "scrolled": false
   },
   "outputs": [
    {
     "data": {
      "text/plain": [
       "nested_dict(nested_dict.implementation.nested_dict,\n",
       "            {'dotbracket': '...((((..[.[[[..))))(((.((((((...(.((..((.....(((.(((..((....((....((..........))...))[))......(((.......(((.(.(..((....((((....((.............((.....((.(((.....))).))......))......)).((((...(.(..........).)...))))((..(((((..&.(......)..)))))......)).(.((((.((((......))))))))).).)))...))).).))).(((....(((....(((((((.........))))))))))......)))...(((.((((....))))....)))))).((.(((..........))).)).(.((....)).)...)))))).).....(.(((...((((.]...))).))))).)...)).).....(..(.(.((.((......)).))..)..)..)......((..(...........)..)).........((((([[....(.((((.....((..]])).......))))))))))..)))))).)))..[......(.([[...(.(.((...(((..(.............&..........&((......&..........))...((((((.(.......((..((.......)).(((.......)))....))......).)))..)))........(.((.(.(..(.................)..).).)).)....)....(((.((...(...((((..((..((((((((...((........))......))))))))..)).......((....))...))))..)...))..))..))))...)).)....((((((....(...((((.........))))...).))))))......{...(((.((.(((..(.((((((.((((......)))))))))).)..)))...((..]]))...))...].))))).).(((......((((....))))....)))...]]].](((((.(((((((..((..(((((..(((.((((((......((........))..........(((((.(....(((((.....(..((.(((........))).))....).)))))...((.(((...(.((((((....(((.(((((....)))..(.((......)))...)).)))....(((...(...((((..((((((((((((.......)))).)))).....))))..))))..).....(((((.....)))))........)))....))).))).....).))))).....).)))))...)).)))).))).(...((.(((........(.......(((.((((....)))).)))....).........))).))......(.....(((((..........))))).....)..)..))))).....((((((((.......))))))))......))...)))))))))).))..(.(..((.(..((((.((..(.((((((((.(((..((((.((...((((...................................))))...)).))))..))).)))))))))..)).))))...).))...)..)..(((((((((....)))))))))}........',\n",
       "             'name': '6ek0-1-S2 #4 nts=1740 0.01(3.51) [chain] DNA[18]/RNA[1722]*',\n",
       "             'seq': 'UACCUGGUUGAUCCUGCCAGUAGCAUaUGCUUGUCUCAAAGAUUAAGCCAUGCAUGUCUAAGUACGCACGGCCGGUACAGUGAAACUGCGAAUGGCUCAUUAAAUCAGUUAUGGUuCCPUuGGUCGCUCGCUCCUCUCCCACUUGGAUAACUGUGGUAaUUCUAGaGCUAAUAcAUGCCGACGGGCGCUGACCCCCUUCGCGGGGGGGAUGCGUGCAUUUAUCAG&UGGUGACUCUAGAUAACCUCGGGCCGAUCGCACGCCCCCCGUGGCGGCGACGACCCAUUCGAACGUCUGCCCUAUCAACUUUCGAUGGUAGUCGCCGUGCCUACCAUGGUGACCACGGGUGACGGGGAAUCAGGGUUCGAUUCCGGAGAGGGAGCCUGAGAAACGGCUACCACAUCCAAGGAAGGCAGCAGGCGCGCaAAUUACCCACUCCCGACCCGGGGAgGUAGUGAcGAAAAAUAACAAUACAGGACUCUUUCGAGGCCCUGUAAUUGGAAUGAGUCcACUUUAAAUCCUUCCGCGAGGAUCCAUUGGAGGGCAAGUCUGGPGCCAGCAGCCGCGGUAAUUCCAGCUCCAAUAgCGUAUAUUAAAGUUGCUGCAGUUaAAAAGCUCGUAGUUgGAUCUUGGGAGCGGG&CGUCCCCGCC&CUCUCGGC&CGGGGCCCGAAGCAUUUACUUUGAAAAAAtUAGAGUGPPCAAAGCAGGCCCGAGCCGCCUGGAUACCGCAGCUAGGAAUAAUGGAAUAGGACCGCGGUUCUAUUUUGUUGGUUUUCGGAACUGAGGCCAUGAUUAAGAGGGACGGCCGGGGGCAUUCGUAUUGCGCCGCUAGAGGUGAAAUUCUUGGACCGGCGCAAGACGGACCAGAGCGAAAGCAUUUGCCAAGAAUGUUUUCAUUAAUCAAGAaCGAAAGUCGGAGGUUCGAAGACGAUCAGAUACCGUCGUAGUUCCGACCAPAAACGAUGCCGACUGGCGAUGCGGCGGCGUUAUUCCCAUGACCCGCCGGGCAGCUUCCGGGAAACCAAAGUCUUUGGGUUCCGGGGGGAGUAUGGUUGCAAAGCUGAAACUUAAAGGAAUUGACGGAAGGGCACCACcAGGAGUGGAGCCUGCGGCUUAAUPUGACpCAACACGGGAAACCUCACCCGGCCCGGACACGGACAGGAUUGACAGAUUGAUAGCUCUUUCUCGAUUCCGUGGGUGGUGGUGCAUGGCcGUUCUUAGUUGGUGGAGCGAUUUGUCUGGUUAAUUCcGAUAACGAACGAGACUCUGGCAUGCUAACUAGUUACGCGACCCCCGAGCGGUCGGCGUCCCCCAACUUCUUAGAGGGACAAGUGGCGUUCAGCCACCCGAGAUUGAGCAAUAACAGGUCUGUGAUGCCCUUAGAUGUCCGGGGCUGCACGCGCGCUACACUGACUGGCUCAGCGUGUGCCUACCCUACGCCGGCAGGCGCGGGUAACCCGUUGAACCCCAUUCGUGAUGGGGAUCGGGGAUUGCAAUUAUUCCCCAUGAACGAGGAAUUCCCAGUAAGUGCGGGUCAUAAGCUUGCGUUGAUUaAGUCCCUGCCCUUUGUACACACCGcCCGUCGcUACUACCGAUUGGAUGGUUUAGUGAGGCCCUCGGAUCGGCCCCGCCGGGGUCGGCCCACGGCCCUGGCGGAGCGCUGAGAAGACGGUCGAACUUGaCUAUCUAGAGGAAGUAAAAGUCGuAaCAAGGUUUCcGUAGGUGaaCCUGCGGAAGGAUCAUUA'})"
      ]
     },
     "execution_count": 62,
     "metadata": {},
     "output_type": "execute_result"
    }
   ],
   "source": [
    "dssr_dot = read_dot('6ek0_S2_1740.dssr.dot')\n",
    "dssr_dot"
   ]
  },
  {
   "cell_type": "code",
   "execution_count": 76,
   "metadata": {},
   "outputs": [
    {
     "name": "stdout",
     "output_type": "stream",
     "text": [
      "1744 1744\n"
     ]
    }
   ],
   "source": [
    "print len(dssr_dot['dotbracket']), len(dssr_dot['seq'])"
   ]
  },
  {
   "cell_type": "code",
   "execution_count": 81,
   "metadata": {},
   "outputs": [
    {
     "name": "stdout",
     "output_type": "stream",
     "text": [
      "dssr_dot_new: 1740\n",
      "converted 1 1722\n"
     ]
    }
   ],
   "source": [
    "seq_1722 = 'TACCTGGTTGATCCTGCCAGTAGCATATGCTTGTCTCAAAGATTAAGCCATGCATGTCTAAGTACGCACGGCCGGTACAGTGAAACTGCGAATGGCTCATTAAATCAGTTATGGTTCCTTTGGTCGCTCGC--------CACTTGGATAACTGTGGTAATTCTAGAGCTAATACATGCCGACGGGCGCTGACCCCCTTCGCGGGGGGGATGCGTGCATTTATCAGTGGTGACTCTAGATAACCTCGGGCCGATCGCACGCCCCCCGTGGCGGCGACGACCCATTCGAACGTCTGCCCTATCAACTTTCGATGGTAGTCGCCGTGCCTACCATGGTGACCACGGGTGACGGGGAATCAGGGTTCGATTCCGGAGAGGGAGCCTGAGAAACGGCTACCACATCCAAGGAAGGCAGCAGGCGCGCCAATTACCCACTCCCGACCCGGGGAGGTAGTGACGAAAAATAACAATACAGGACTCTTTCGAGGCCCTGTAATTGGAATGAGTCCACTTTAAATCCTTCCGCGAGGATCCATTGGAGGGCAAGTCTGGTGCCAGCAGCCGCGGTAATTCCAGCTCCAATAGCGTATATTAAAGTTGCTGCAGTTAAAAAGCTCGTAGTTGGATCTTGGGAGCGGGCGTCCCCGCCCTCTCGGC-GGGGCCCGAAGCATTTACTTTGAAAAAATTAGAGTGTTCAAAGCAGGCCCGAGCCGCCTGGATACCGCAGCTAGGAATAATGGAATAGGACCGCGGTTCTATTTTGTTGGTTTTCGGAACTGAGGCCATGATTAAGAGGGACGGCCGGGGGCATTCGTATTGCGCCGCTAGAGGTGAAATTCTTGGACCGGCGCAAGACGGACCAGAGCGAAAGCATTTGCCAAGAATGTTTTCATTAATCAAGAACGAAAGTCGGAGGTTCGAAGACGATCAGATACCGTCGTAGTTCCGACCATAAACGATGCCGACTGGCGATGCGGCGGCGTTATTCCCATGACCCGCCGGGCAGCTTCCGGGAAACCAAAGTCTTTGGGTTCCGGGGGGAGTATGGTTGCAAAGCTGAAACTTAAAGGAATTGACGGAAGGGCACCACCAGGAGTGGAGCCTGCGGCTTAATTTGACCCAACACGGGAAACCTCACCCGGCCCGGACACGGACAGGATTGACAGATTGATAGCTCTTTCTCGATTCCGTGGGTGGTGGTGCATGGCCGTTCTTAGTTGGTGGAGCGATTTGTCTGGTTAATTCCGATAACGAACGAGACTCTGGCATGCTAACTAGTTACGCGACCCCCGAGCGGTCGGCGTCCCCCAACTTCTTAGAGGGACAAGTGGCGTTCAGCCACCCGAGATTGAGCAATAACAGGTCTGTGATGCCCTTAGATGTCCGGGGCTGCACGCGCGCTACACTGACTGGCTCAGCGTGTGCCTACCCTACGCCGGCAGGCGCGGGTAACCCGTTGAACCCCATTCGTGATGGGGATCGGGGATTGCAATTATTCCCCATGAACGAGGAATTCCCAGTAAGTGCGGGTCATAAGCTTGCGTTGATTAAGTCCCTGCCCTTTGTACACACCGCCCGTCGCTACTACCGATTGGATGGTTTAGTGAGGCCCTCGGATCGGCCCCGCCGGGGT---------GCCCTGGCGGAGCGCTGAGAAGACGGTCGAACTTGACTATCTAGAGGAAGTAAAAGTCGTAACAAGGTTTCCGTAGGTGAACCTGCGGAAGGATCATTA'\n",
    "seq_1744 = 'TACCTGGTTGATCCTGCCAGTAGCATATGCTTGTCTCAAAGATTAAGCCATGCATGTCTAAGTACGCACGGCCGGTACAGTGAAACTGCGAATGGCTCATTAAATCAGTTATGGTTCCTT-GGTCGCTCGCTCCTCTCCCACTTGGATAACTGTGGTAATTCTAGAGCTAATACATGCCGACGGGCGCTGACCCCCTTCGCGGGGGGGATGCGTGCATTTATCAGTGGTGACTCTAGATAACCTCGGGCCGATCGCACGCCCCCCGTGGCGGCGACGACCCATTCGAACGTCTGCCCTATCAACTTTCGATGGTAGTCGCCGTGCCTACCATGGTGACCACGGGTGACGGGGAATCAGGGTTCGATTCCGGAGAGGGAGCCTGAGAAACGGCTACCACATCCAAGGAAGGCAGCAGGCGCGCAAATTACCCACTCCCGACCCGGGGAGGTAGTGACGAAAAATAACAATACAGGACTCTTTCGAGGCCCTGTAATTGGAATGAGTCCACTTTAAATCCTTCCGCGAGGATCCATTGGAGGGCAAGTCTGG-GCCAGCAGCCGCGGTAATTCCAGCTCCAATAGCGTATATTAAAGTTGCTGCAGTTAAAAAGCTCGTAGTTGGATCTTGGGAGCGGGCGTCCCCGCCCTCTCGGCCGGGGCCCGAAGCATTTACTTTGAAAAAATTAGAGTG--CAAAGCAGGCCCGAGCCGCCTGGATACCGCAGCTAGGAATAATGGAATAGGACCGCGGTTCTATTTTGTTGGTTTTCGGAACTGAGGCCATGATTAAGAGGGACGGCCGGGGGCATTCGTATTGCGCCGCTAGAGGTGAAATTCTTGGACCGGCGCAAGACGGACCAGAGCGAAAGCATTTGCCAAGAATGTTTTCATTAATCAAGAACGAAAGTCGGAGGTTCGAAGACGATCAGATACCGTCGTAGTTCCGACCA-AAACGATGCCGACTGGCGATGCGGCGGCGTTATTCCCATGACCCGCCGGGCAGCTTCCGGGAAACCAAAGTCTTTGGGTTCCGGGGGGAGTATGGTTGCAAAGCTGAAACTTAAAGGAATTGACGGAAGGGCACCACCAGGAGTGGAGCCTGCGGCTTAATT-GACC-AACACGGGAAACCTCACCCGGCCCGGACACGGACAGGATTGACAGATTGATAGCTCTTTCTCGATTCCGTGGGTGGTGGTGCATGGCCGTTCTTAGTTGGTGGAGCGATTTGTCTGGTTAATTCCGATAACGAACGAGACTCTGGCATGCTAACTAGTTACGCGACCCCCGAGCGGTCGGCGTCCCCCAACTTCTTAGAGGGACAAGTGGCGTTCAGCCACCCGAGATTGAGCAATAACAGGTCTGTGATGCCCTTAGATGTCCGGGGCTGCACGCGCGCTACACTGACTGGCTCAGCGTGTGCCTACCCTACGCCGGCAGGCGCGGGTAACCCGTTGAACCCCATTCGTGATGGGGATCGGGGATTGCAATTATTCCCCATGAACGAGGAATTCCCAGTAAGTGCGGGTCATAAGCTTGCGTTGATTAAGTCCCTGCCCTTTGTACACACCGCCCGTCGCTACTACCGATTGGATGGTTTAGTGAGGCCCTCGGATCGGCCCCGCCGGGGTCGGCCCACGGCCCTGGCGGAGCGCTGAGAAGACGGTCGAACTTGACTATCTAGAGGAAGTAAAAGTCGTAACAAGGTTTCCGTAGGTGAACCTGCGGAAGGATCATTA'\n",
    "\n",
    "# 1-1722\n",
    "# 1-1733\n",
    "\n",
    "# a_ls = list(accessibility['c'])\n",
    "# print \"original\", len(a_ls)\n",
    "\n",
    "dssr_dot_new = list(dssr_dot['dotbracket'].replace('.','1').replace('(','0').replace(')','0').replace('>','0').replace('<','0').replace('[','0').replace(']','0').replace('&','').replace('{','0').replace('}','0') )\n",
    "print \"dssr_dot_new:\",len(dssr_dot_new)\n",
    "\n",
    "new_dot_ls = []\n",
    "dssr_dot_seq_new = ''\n",
    "\n",
    "n = 0\n",
    "for i,j in zip(seq_1722, seq_1744):\n",
    "    if j != '-':\n",
    "        n += 1\n",
    "#         print n\n",
    "    if i != '-':\n",
    "        if j == '-':\n",
    "            new_dot_ls.append('1')\n",
    "            dssr_dot_seq_new += '-'\n",
    "        else:\n",
    "            new_dot_ls.append(dssr_dot_new[0:1733][n-1])\n",
    "            dssr_dot_seq_new += j\n",
    "    \n",
    "print \"converted 1\", len(new_dot_ls)\n",
    "\n"
   ]
  },
  {
   "cell_type": "code",
   "execution_count": 82,
   "metadata": {},
   "outputs": [
    {
     "data": {
      "text/plain": [
       "(1722, 1722, 1722)"
      ]
     },
     "execution_count": 82,
     "metadata": {},
     "output_type": "execute_result"
    }
   ],
   "source": [
    "len(seq_1722.replace('-','')),len(dssr_dot_seq_new),len(new_dot_ls)"
   ]
  },
  {
   "cell_type": "code",
   "execution_count": 83,
   "metadata": {},
   "outputs": [],
   "source": [
    "savefn = 'DSSR_18S_combine.txt'\n",
    "\n",
    "SAVEFN = open(savefn, 'w')\n",
    "\n",
    "with open('part_of_18s.txt', 'r') as TXT:\n",
    "    n = 0\n",
    "    for line in TXT:\n",
    "        line = line.strip()\n",
    "        if not line:\n",
    "            continue\n",
    "        n += 1\n",
    "        arr = line.split('\\t')\n",
    "        print >>SAVEFN,'\\t'.join(arr+[new_dot_ls[n-1], seq_1722.replace('-','')[n-1], dssr_dot_seq_new[n-1]])\n",
    "SAVEFN.close()"
   ]
  },
  {
   "cell_type": "code",
   "execution_count": null,
   "metadata": {},
   "outputs": [],
   "source": []
  }
 ],
 "metadata": {
  "kernelspec": {
   "display_name": "Python 2",
   "language": "python",
   "name": "python2"
  },
  "language_info": {
   "codemirror_mode": {
    "name": "ipython",
    "version": 2
   },
   "file_extension": ".py",
   "mimetype": "text/x-python",
   "name": "python",
   "nbconvert_exporter": "python",
   "pygments_lexer": "ipython2",
   "version": "2.7.12"
  }
 },
 "nbformat": 4,
 "nbformat_minor": 2
}
