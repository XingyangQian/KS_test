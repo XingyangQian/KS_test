{
 "cells": [
  {
   "cell_type": "code",
   "execution_count": 1,
   "metadata": {},
   "outputs": [],
   "source": [
    "from sklearn import svm,datasets\n",
    "from pandas.io.parsers import read_table\n",
    "import pandas as pd\n",
    "import matplotlib.pyplot as plt\n",
    "import numpy as np\n",
    "%matplotlib inline\n",
    "from sklearn.metrics import roc_curve, auc\n",
    "import seaborn as sns\n",
    "from scipy import stats\n",
    "from nested_dict import nested_dict\n",
    "from pyfasta import Fasta"
   ]
  },
  {
   "cell_type": "code",
   "execution_count": 2,
   "metadata": {},
   "outputs": [],
   "source": [
    "def read_icshape_out(out=None, pureID=1):\n",
    "\tout_dict = nested_dict()\n",
    "\twith open(out, 'r') as OUT:\n",
    "\t\tfor line in OUT:\n",
    "\t\t\tline = line.strip()\n",
    "\t\t\tif not line or line.startswith('#'): continue\n",
    "\t\t\tarr = line.split('\\t')\n",
    "\t\t\ttx_id = arr[0]\n",
    "\t\t\tif pureID:\n",
    "\t\t\t\ttx_id = tx_id.split('.')[0]\n",
    "\t\t\tlength = int(arr[1])\n",
    "\t\t\trpkm = float(arr[2])\n",
    "\t\t\treactivity_ls = arr[3:]\n",
    "\t\t\tout_dict[tx_id]['tx_id'] = tx_id\n",
    "\t\t\tout_dict[tx_id]['length'] = length\n",
    "\t\t\tout_dict[tx_id]['rpkm'] = rpkm\n",
    "\t\t\tout_dict[tx_id]['reactivity_ls'] = reactivity_ls\n",
    "\treturn out_dict"
   ]
  },
  {
   "cell_type": "code",
   "execution_count": 151,
   "metadata": {},
   "outputs": [],
   "source": [
    "out_dict_kethoxal_rRNA = read_icshape_out('in_vivo_mRNA_kethoxal.newrRNA.T2t100.out')\n",
    "\n",
    "kethoxal = out_dict_kethoxal_rRNA['18S']['reactivity_ls']\n",
    "kethoxal = [np.nan if i == 'NULL' else float(i) for i in kethoxal]\n",
    "kethoxal_df = pd.DataFrame({'x':kethoxal})"
   ]
  },
  {
   "cell_type": "code",
   "execution_count": 152,
   "metadata": {},
   "outputs": [
    {
     "data": {
      "text/plain": [
       "(   x\n",
       " 0  1\n",
       " 1  1\n",
       " 2  1\n",
       " 3  0\n",
       " 4  0, (1869, 1))"
      ]
     },
     "execution_count": 152,
     "metadata": {},
     "output_type": "execute_result"
    }
   ],
   "source": [
    "#data import\n",
    "icshape_125 = pd.read_csv('./ml/icshape.125-r1.18s.list',header=None,names=['x'])\n",
    "score_125 = pd.read_csv('./ml/score.NAIN3-125-r1.T2t200.18s.list',header=None,names=['x'])\n",
    "score_125_t500 = pd.read_csv('./ml/score.NAIN3-125-r1.T2t500.18s.list',header=None,names=['x'])\n",
    "score_125_ext70 = pd.read_csv('./ml/score.NAIN3-125-r1.ex70.T2t200.18s.list',header=None,names=['x'])\n",
    "score_125_ext150 = pd.read_csv('./ml/score.NAIN3-125-r1.ex150.T2t200.18s.list',header=None,names=['x'])\n",
    "# icshape_paris = pd.read_csv('./ml/invivo.icSHAPE.18s.na.list',header=None,names=['x'])\n",
    "icshape_paris = pd.read_csv('./ml/18S.invivo.icSHAPE.new.color',header=None,names=['x'])\n",
    "#score_paris = pd.read_csv('../score.invivo.target.rRNA.t200.18S.na.list',header=None,names=['x'])\n",
    "# icshape_sl_cy = pd.read_csv('./ml/icSHAPE.1.18s.na.list',header=None,names=['x'])\n",
    "standard = pd.read_csv('./ml/18S_human.bcolor',header=None,names=['x'])\n",
    "accessibility = read_table('./ml/18s_o2_sasa.sort.txt',header=None)\n",
    "#standard = pd.read_csv('../../human_18s_con.ct',header=None,sep='\\t')[2]\n",
    "#flist = ['icshape_25','ml_125','ml_25','ml_125_t500','ml_125_t700','icshape_paris','icshape_sl']\n",
    "X_test = [icshape_125,score_125,score_125_t500,score_125_ext70,score_125_ext150,icshape_paris, kethoxal_df]\n",
    "y = standard\n",
    "accessibility.columns = ['a','b','c']\n",
    "#accessibility['a']\n",
    "y.head(), y.shape"
   ]
  },
  {
   "cell_type": "code",
   "execution_count": 153,
   "metadata": {},
   "outputs": [
    {
     "data": {
      "text/plain": [
       "(1869,\n",
       " u'TACCTGGTTGATCCTGCCAGTAGCATATGCTTGTCTCAAAGATTAAGCCATGCATGTCTGAGTACGCACGGCCGGTACAGTGAAACTGCGAATGGCTCATTAAATCAGTTATGGTTCCTTTGGTCGCTCGCTCCTCTCCTACTTGGATAACTGTGGTAATTCTAGAGCTAATACATGCCGACGGGCGCTGACCCCCTTCGCGGGGGGGATGCGTGCATTTATCAGATCAAAACCAACCCGGTCAGCCCCTCTCCGGCCCCGGCCGGGGGGCGGGCGCCGGCGGCTTTGGTGACTCTAGATAACCTCGGGCCGATCGCACGCCCCCCGTGGCGGCGACGACCCATTCGAACGTCTGCCCTATCAACTTTCGATGGTAGTCGCCGTGCCTACCATGGTGACCACGGGTGACGGGGAATCAGGGTTCGATTCCGGAGAGGGAGCCTGAGAAACGGCTACCACATCCAAGGAAGGCAGCAGGCGCGCAAATTACCCACTCCCGACCCGGGGAGGTAGTGACGAAAAATAACAATACAGGACTCTTTCGAGGCCCTGTAATTGGAATGAGTCCACTTTAAATCCTTTAACGAGGATCCATTGGAGGGCAAGTCTGGTGCCAGCAGCCGCGGTAATTCCAGCTCCAATAGCGTATATTAAAGTTGCTGCAGTTAAAAAGCTCGTAGTTGGATCTTGGGAGCGGGCGGGCGGTCCGCCGCGAGGCGAGCCACCGCCCGTCCCCGCCCCTTGCCTCTCGGCGCCCCCTCGATGCTCTTAGCTGAGTGTCCCGCGGGGCCCGAAGCGTTTACTTTGAAAAAATTAGAGTGTTCAAAGCAGGCCCGAGCCGCCTGGATACCGCAGCTAGGAATAATGGAATAGGACCGCGGTTCTATTTTGTTGGTTTTCGGAACTGAGGCCATGATTAAGAGGGACGGCCGGGGGCATTCGTATTGCGCCGCTAGAGGTGAAATTCTTGGACCGGCGCAAGACGGACCAGAGCGAAAGCATTTGCCAAGAATGTTTTCATTAATCAAGAACGAAAGTCGGAGGTTCGAAGACGATCAGATACCGTCGTAGTTCCGACCATAAACGATGCCGACCGGCGATGCGGCGGCGTTATTCCCATGACCCGCCGGGCAGCTTCCGGGAAACCAAAGTCTTTGGGTTCCGGGGGGAGTATGGTTGCAAAGCTGAAACTTAAAGGAATTGACGGAAGGGCACCACCAGGAGTGGAGCCTGCGGCTTAATTTGACTCAACACGGGAAACCTCACCCGGCCCGGACACGGACAGGATTGACAGATTGATAGCTCTTTCTCGATTCCGTGGGTGGTGGTGCATGGCCGTTCTTAGTTGGTGGAGCGATTTGTCTGGTTAATTCCGATAACGAACGAGACTCTGGCATGCTAACTAGTTACGCGACCCCCGAGCGGTCGGCGTCCCCCAACTTCTTAGAGGGACAAGTGGCGTTCAGCCACCCGAGATTGAGCAATAACAGGTCTGTGATGCCCTTAGATGTCCGGGGCTGCACGCGCGCTACACTGACTGGCTCAGCGTGTGCCTACCCTACGCCGGCAGGCGCGGGTAACCCGTTGAACCCCATTCGTGATGGGGATCGGGGATTGCAATTATTCCCCATGAACGAGGAATTCCCAGTAAGTGCGGGTCATAAGCTTGCGTTGATTAAGTCCCTGCCCTTTGTACACACCGCCCGTCGCTACTACCGATTGGATGGTTTAGTGAGGCCCTCGGATCGGCCCCGCCGGGGTCGGCCCACGGCCCTGGCGGAGCGCTGAGAAGACGGTCGAACTTGACTATCTAGAGGAAGTAAAAGTCGTAACAAGGTTTCCGTAGGTGAACCTGCGGAAGGATCATTA')"
      ]
     },
     "execution_count": 153,
     "metadata": {},
     "output_type": "execute_result"
    }
   ],
   "source": [
    "fa_dict = Fasta('./ribosomalRNAindex/human.18s_rRNA.fa', key_fn=lambda key:key.split(\"\\t\")[0])\n",
    "len(fa_dict['18S']), fa_dict['18S'][0:]"
   ]
  },
  {
   "cell_type": "code",
   "execution_count": 154,
   "metadata": {},
   "outputs": [
    {
     "data": {
      "text/plain": [
       "550"
      ]
     },
     "execution_count": 154,
     "metadata": {},
     "output_type": "execute_result"
    }
   ],
   "source": [
    "fa_dict['18S'][0:].count('G')"
   ]
  },
  {
   "cell_type": "code",
   "execution_count": 155,
   "metadata": {},
   "outputs": [
    {
     "name": "stdout",
     "output_type": "stream",
     "text": [
      "1869          a    b         c\n",
      "1        1    U  0.000000\n",
      "2        2    A  0.000000\n",
      "3        3    C  0.000000\n",
      "4        4    C  0.000000\n",
      "5        5    U  0.000000\n",
      "6        6    G  0.000000\n",
      "7        7    G  0.000000\n",
      "8        8    U  0.000000\n",
      "9        9    U  0.000000\n",
      "10      10    G  0.000000\n",
      "11      11    A  0.000000\n",
      "12      12    U  0.000000\n",
      "13      13    C  0.000000\n",
      "14      14    C  0.000000\n",
      "15      15    U  0.000000\n",
      "16      16    G  0.000000\n",
      "17      17    C  0.000000\n",
      "18      18    C  0.000000\n",
      "19      19    A  0.000000\n",
      "20      20    G  0.000000\n",
      "21      21    U  0.000000\n",
      "22      22    A  0.000000\n",
      "23      23    G  0.000000\n",
      "24      24    C  0.000000\n",
      "25      25    A  0.000000\n",
      "26      26    U  0.000000\n",
      "27      27  A2M  0.000000\n",
      "28      28    U  0.000000\n",
      "29      29    G  0.000000\n",
      "30      30    C  0.000000\n",
      "...    ...  ...       ...\n",
      "1840  1840    U  0.000000\n",
      "1841  1841    C  4.812782\n",
      "1842  1842  4AC  0.000000\n",
      "1843  1843    G  0.000000\n",
      "1844  1844    U  0.000000\n",
      "1845  1845    A  0.000000\n",
      "1846  1846    G  0.000000\n",
      "1847  1847    G  0.000000\n",
      "1848  1848    U  0.000000\n",
      "1849  1849    G  8.148396\n",
      "1850  1850  MA6  0.000000\n",
      "1851  1851  MA6  0.000000\n",
      "1852  1852    C  0.000000\n",
      "1853  1853    C  0.000000\n",
      "1854  1854    U  0.000000\n",
      "1855  1855    G  0.000000\n",
      "1856  1856    C  0.000000\n",
      "1857  1857    G  0.000000\n",
      "1858  1858    G  0.000000\n",
      "1859  1859    A  0.000000\n",
      "1860  1860    A  0.000000\n",
      "1861  1861    G  0.000000\n",
      "1862  1862    G  0.000000\n",
      "1863  1863    A  0.000000\n",
      "1864  1864    U  0.000000\n",
      "1865  1865    C  0.000000\n",
      "1866  1866    A  0.000000\n",
      "1867  1867    U  0.000000\n",
      "1868  1868    U  0.000000\n",
      "1869  1869    A  9.577394\n",
      "\n",
      "[1869 rows x 3 columns]\n"
     ]
    }
   ],
   "source": [
    "pdb_sasa_file = './ml/human_allbase_o2.sr4.new.txt'\n",
    "sa_df = pd.read_csv(pdb_sasa_file, sep=\"\\t\", header=None, names=['a', 'b', 'c'])\n",
    "sa_df.index = sa_df['a']\n",
    "nan_df = pd.DataFrame([np.nan]*len(standard), index=range(1, len(standard) +1))\n",
    "sa_df = pd.merge(nan_df, sa_df, left_index=True, right_index=True, how='left')[['a', 'b', 'c']]\n",
    "print len(sa_df),sa_df"
   ]
  },
  {
   "cell_type": "code",
   "execution_count": 158,
   "metadata": {
    "scrolled": false
   },
   "outputs": [
    {
     "name": "stdout",
     "output_type": "stream",
     "text": [
      "                x    y           a\n",
      "count  158.000000  158  158.000000\n",
      "mean     0.244823    1   29.266273\n",
      "std      0.348589    0   23.820657\n",
      "min      0.000000    1    2.529378\n",
      "25%      0.030250    1    8.779733\n",
      "50%      0.073500    1   20.960843\n",
      "75%      0.242000    1   50.989140\n",
      "max      1.000000    1   99.858444\n",
      "                x    y           a\n",
      "count  242.000000  242  242.000000\n",
      "mean     0.068277    0   30.195156\n",
      "std      0.151611    0   22.244983\n",
      "min      0.000000    0    2.529380\n",
      "25%      0.004000    0   11.550352\n",
      "50%      0.024500    0   25.231050\n",
      "75%      0.068000    0   45.642145\n",
      "max      1.000000    0  101.783203\n"
     ]
    },
    {
     "data": {
      "image/png": "[encoded data removed]",
      "text/plain": [
       "<matplotlib.figure.Figure at 0x116758490>"
      ]
     },
     "metadata": {},
     "output_type": "display_data"
    },
    {
     "name": "stdout",
     "output_type": "stream",
     "text": [
      "                x    y           a\n",
      "count  159.000000  159  159.000000\n",
      "mean     0.289065    1   29.133456\n",
      "std      0.336930    0   23.804143\n",
      "min      0.009865    1    2.529378\n",
      "25%      0.058260    1    8.652264\n",
      "50%      0.125473    1   20.027946\n",
      "75%      0.341822    1   50.951820\n",
      "max      1.000000    1   99.858444\n",
      "                x    y           a\n",
      "count  243.000000  243  243.000000\n",
      "mean     0.115075    0   30.090702\n",
      "std      0.167259    0   22.258611\n",
      "min      0.009865    0    2.529380\n",
      "25%      0.028008    0   11.368967\n",
      "50%      0.058809    0   25.012575\n",
      "75%      0.136226    0   45.632702\n",
      "max      1.000000    0  101.783203\n"
     ]
    },
    {
     "data": {
      "image/png": "[encoded data removed]",
      "text/plain": [
       "<matplotlib.figure.Figure at 0x118d0ee50>"
      ]
     },
     "metadata": {},
     "output_type": "display_data"
    },
    {
     "name": "stdout",
     "output_type": "stream",
     "text": [
      "                x    y           a\n",
      "count  159.000000  159  159.000000\n",
      "mean     0.289079    1   29.133456\n",
      "std      0.336918    0   23.804143\n",
      "min      0.010317    1    2.529378\n",
      "25%      0.058260    1    8.652264\n",
      "50%      0.125473    1   20.027946\n",
      "75%      0.341822    1   50.951820\n",
      "max      1.000000    1   99.858444\n",
      "                x    y           a\n",
      "count  243.000000  243  243.000000\n",
      "mean     0.115106    0   30.090702\n",
      "std      0.167240    0   22.258611\n",
      "min      0.010317    0    2.529380\n",
      "25%      0.028008    0   11.368967\n",
      "50%      0.058809    0   25.012575\n",
      "75%      0.136226    0   45.632702\n",
      "max      1.000000    0  101.783203\n"
     ]
    },
    {
     "data": {
      "image/png": "[encoded data removed]",
      "text/plain": [
       "<matplotlib.figure.Figure at 0x1164af910>"
      ]
     },
     "metadata": {},
     "output_type": "display_data"
    },
    {
     "name": "stdout",
     "output_type": "stream",
     "text": [
      "                x    y           a\n",
      "count  159.000000  159  159.000000\n",
      "mean     0.294526    1   29.133456\n",
      "std      0.336771    0   23.804143\n",
      "min      0.012305    1    2.529378\n",
      "25%      0.062794    1    8.652264\n",
      "50%      0.132123    1   20.027946\n",
      "75%      0.370057    1   50.951820\n",
      "max      1.000000    1   99.858444\n",
      "                x    y           a\n",
      "count  243.000000  243  243.000000\n",
      "mean     0.115548    0   30.090702\n",
      "std      0.166868    0   22.258611\n",
      "min      0.012305    0    2.529380\n",
      "25%      0.028587    0   11.368967\n",
      "50%      0.062881    0   25.012575\n",
      "75%      0.138180    0   45.632702\n",
      "max      1.000000    0  101.783203\n"
     ]
    },
    {
     "data": {
      "image/png": "[encoded data removed]",
      "text/plain": [
       "<matplotlib.figure.Figure at 0x1166f2610>"
      ]
     },
     "metadata": {},
     "output_type": "display_data"
    },
    {
     "name": "stdout",
     "output_type": "stream",
     "text": [
      "                x    y           a\n",
      "count  159.000000  159  159.000000\n",
      "mean     0.309012    1   29.133456\n",
      "std      0.334837    0   23.804143\n",
      "min      0.013805    1    2.529378\n",
      "25%      0.084165    1    8.652264\n",
      "50%      0.145896    1   20.027946\n",
      "75%      0.409196    1   50.951820\n",
      "max      1.000000    1   99.858444\n",
      "                x    y           a\n",
      "count  243.000000  243  243.000000\n",
      "mean     0.119012    0   30.090702\n",
      "std      0.171849    0   22.258611\n",
      "min      0.013805    0    2.529380\n",
      "25%      0.031604    0   11.368967\n",
      "50%      0.070099    0   25.012575\n",
      "75%      0.130086    0   45.632702\n",
      "max      1.000000    0  101.783203\n"
     ]
    },
    {
     "data": {
      "image/png": "[encoded data removed]",
      "text/plain": [
       "<matplotlib.figure.Figure at 0x1171a97d0>"
      ]
     },
     "metadata": {},
     "output_type": "display_data"
    },
    {
     "name": "stdout",
     "output_type": "stream",
     "text": [
      "1869 1869\n",
      "               x   y          a\n",
      "count  52.000000  52  52.000000\n",
      "mean    0.206865   1  32.716769\n",
      "std     0.294032   0  24.961452\n",
      "min     0.000000   1   3.072050\n",
      "25%     0.027500   1   9.457995\n",
      "50%     0.087500   1  26.964663\n",
      "75%     0.238500   1  56.527803\n",
      "max     1.000000   1  76.012405\n",
      "               x   y          a\n",
      "count  86.000000  86  86.000000\n",
      "mean    0.041465   0  26.664981\n",
      "std     0.068542   0  21.551671\n",
      "min     0.000000   0   2.573537\n",
      "25%     0.000000   0   7.269444\n",
      "50%     0.018000   0  19.686212\n",
      "75%     0.052750   0  43.158958\n",
      "max     0.442000   0  85.966408\n"
     ]
    },
    {
     "data": {
      "image/png": "[encoded data removed]",
      "text/plain": [
       "<matplotlib.figure.Figure at 0x1164af810>"
      ]
     },
     "metadata": {},
     "output_type": "display_data"
    },
    {
     "name": "stdout",
     "output_type": "stream",
     "text": [
      "1869 1869\n",
      "               x   y          a\n",
      "count  52.000000  52  52.000000\n",
      "mean    0.561635   1  32.716769\n",
      "std     0.347495   0  24.961452\n",
      "min     0.049000   1   3.072050\n",
      "25%     0.221000   1   9.457995\n",
      "50%     0.496500   1  26.964663\n",
      "75%     1.000000   1  56.527803\n",
      "max     1.000000   1  76.012405\n",
      "               x   y          a\n",
      "count  86.000000  86  86.000000\n",
      "mean    0.299837   0  26.664981\n",
      "std     0.268477   0  21.551671\n",
      "min     0.000000   0   2.573537\n",
      "25%     0.137000   0   7.269444\n",
      "50%     0.207500   0  19.686212\n",
      "75%     0.351000   0  43.158958\n",
      "max     1.000000   0  85.966408\n"
     ]
    },
    {
     "data": {
      "image/png": "[encoded data removed]",
      "text/plain": [
       "<matplotlib.figure.Figure at 0x116386d90>"
      ]
     },
     "metadata": {},
     "output_type": "display_data"
    }
   ],
   "source": [
    "#fpr1,tpr1,_ = roc_curve(y, X1)\n",
    "#roc_auc1 = auc(fpr1, tpr1)\n",
    "filelist =['icshape_125','score_125','score_125_t500','score_125_ext70','score_125_ext150','icshape_paris', 'kethoxal']\n",
    "\n",
    "fpr_list = []\n",
    "tpr_list = []\n",
    "roc_auc_list = []\n",
    "#x_dic = {}\n",
    "for i in range(len(X_test)):\n",
    "    #print(i,X_test[i])\n",
    "    #X_test[i]['y'] = pd.Series(y)\n",
    "    X_test[i]['y'] = y\n",
    "    X_test[i]['a'] = pd.Series(accessibility['c'])\n",
    "#     X_test[i]['a'] = pd.Series(sa_df['c'])\n",
    "    if filelist[i] in ['icshape_paris', 'kethoxal']:\n",
    "        print len(X_test[i]['a']), len(list(fa_dict['18S'][0:]))\n",
    "        X_test[i]['base'] = list(fa_dict['18S'][0:])\n",
    "    X_select = X_test[i].dropna()\n",
    "    X_select = X_select[X_select.a>=2.5]\n",
    "\n",
    "#     def label(x):\n",
    "#         if x['y'] == 0:\n",
    "#             return 0\n",
    "#         elif x['y'] == 1 and x['a'] >2.5:\n",
    "#             return 1\n",
    "#         else:\n",
    "#             return np.nan\n",
    "#     X_select['label'] = X_select.apply(label, axis=1)\n",
    "    \n",
    "    X_select = X_select.dropna()\n",
    "    #X_select = X_select[X_select['y']!=0.5]\n",
    "#     X_select = X_select[X_select['x']>=0 ]\n",
    "    if filelist[i] in ['icshape_paris', 'kethoxal']:\n",
    "        X_select = X_select[X_select['base'] == 'G' ]\n",
    "    #print(X_select['y'])\n",
    "    #fpr,tpr,_ = roc_curve(X_clean['y'],X_clean['x'])\n",
    "    fpr,tpr,_ = roc_curve(X_select['y'],X_select['x'])\n",
    "    ml_125_ss = X_select[X_select.y==1]\n",
    "    ml_125_ds = X_select[X_select.y==0]\n",
    "    print(ml_125_ss.describe())\n",
    "    print(ml_125_ds.describe())\n",
    "    sns.distplot(ml_125_ss.dropna()['x'],norm_hist=True,kde=False, bins=10)\n",
    "    sns.distplot(ml_125_ds.dropna()['x'],norm_hist=True,kde=False, bins=10)\n",
    "    plt.title(filelist[i])\n",
    "    plt.show()\n",
    "    fpr_list.append(fpr)\n",
    "    tpr_list.append(tpr)\n",
    "    roc_auc_list.append(auc(fpr_list[i],tpr_list[i]))\n"
   ]
  },
  {
   "cell_type": "code",
   "execution_count": 159,
   "metadata": {},
   "outputs": [
    {
     "name": "stdout",
     "output_type": "stream",
     "text": [
      "0\n",
      "1\n",
      "2\n",
      "3\n",
      "4\n",
      "5\n",
      "6\n"
     ]
    },
    {
     "data": {
      "text/plain": [
       "<matplotlib.figure.Figure at 0x116fad950>"
      ]
     },
     "metadata": {},
     "output_type": "display_data"
    },
    {
     "data": {
      "image/png": "[encoded data removed]",
      "text/plain": [
       "<matplotlib.figure.Figure at 0x118aa3850>"
      ]
     },
     "metadata": {},
     "output_type": "display_data"
    }
   ],
   "source": [
    "plt.figure()\n",
    "lw = 2\n",
    "#plt.plot(fpr1, tpr1, color='darkorange',\n",
    "#         lw=lw, label='icshape_reactivity (area = %0.2f)' % roc_auc1)\n",
    "#color = ['red','orange','green','purple','blue','black','yellow']\n",
    "# filelist =['icshape_125','score_125','score_125_t500','score_125_ext70','score_125_ext150','icshape_paris','icshape_sl_cy']\n",
    "with sns.axes_style(\"ticks\"):\n",
    "    fig,ax=plt.subplots(figsize=(6,6))\n",
    "for i in range(len(X_test)):\n",
    "    print (i)\n",
    "    if i < 5:\n",
    "        continue\n",
    "    plt.plot(fpr_list[i],tpr_list[i],lw = lw,label = '%s (area = %0.2f)' %(filelist[i],roc_auc_list[i]))\n",
    "plt.plot([-0.05, 1.05], [-0.05, 1.05], color='black', lw=lw, linestyle='--',label='Luck')\n",
    "ax.axis('square')\n",
    "plt.xlim([-0.05, 1.05])\n",
    "plt.ylim([-0.05, 1.05])\n",
    "plt.xlabel('False Positive Rate')\n",
    "plt.ylabel('True Positive Rate')\n",
    "plt.title('ROC curve')\n",
    "plt.legend(bbox_to_anchor=(1, 1), loc=2)\n",
    "# plt.show()\n",
    "plt.tight_layout()\n",
    "plt.savefig('human_18S.pdf')"
   ]
  },
  {
   "cell_type": "code",
   "execution_count": null,
   "metadata": {
    "collapsed": true
   },
   "outputs": [],
   "source": [
    "ml_125_ss = ml_125[ml_125.y==1]\n",
    "ml_125_ds = ml_125[ml_125.y==0]\n",
    "sns.distplot(ml_125_ss.dropna()['x'],norm_hist=True,kde=False, bins=20,fit=stats.beta)\n",
    "sns.distplot(ml_125_ds.dropna()['x'],norm_hist=True,kde=False, bins=20,fit=stats.beta)\n",
    "plt.show()"
   ]
  }
 ],
 "metadata": {
  "kernelspec": {
   "display_name": "Python 2",
   "language": "python",
   "name": "python2"
  },
  "language_info": {
   "codemirror_mode": {
    "name": "ipython",
    "version": 2
   },
   "file_extension": ".py",
   "mimetype": "text/x-python",
   "name": "python",
   "nbconvert_exporter": "python",
   "pygments_lexer": "ipython2",
   "version": "2.7.12"
  }
 },
 "nbformat": 4,
 "nbformat_minor": 2
}
