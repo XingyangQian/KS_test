{
 "cells": [
  {
   "cell_type": "code",
   "execution_count": 23,
   "metadata": {},
   "outputs": [],
   "source": [
    "from sklearn import svm,datasets\n",
    "from pandas.io.parsers import read_table\n",
    "import pandas as pd\n",
    "import matplotlib.pyplot as plt\n",
    "import numpy as np\n",
    "%matplotlib inline\n",
    "from sklearn.metrics import roc_curve, auc\n",
    "import seaborn as sns\n",
    "from scipy import stats\n",
    "from nested_dict import nested_dict\n",
    "from pyfasta import Fasta"
   ]
  },
  {
   "cell_type": "code",
   "execution_count": 24,
   "metadata": {},
   "outputs": [],
   "source": [
    "def read_icshape_out(out=None, pureID=1):\n",
    "\tout_dict = nested_dict()\n",
    "\twith open(out, 'r') as OUT:\n",
    "\t\tfor line in OUT:\n",
    "\t\t\tline = line.strip()\n",
    "\t\t\tif not line or line.startswith('#'): continue\n",
    "\t\t\tarr = line.split('\\t')\n",
    "\t\t\ttx_id = arr[0]\n",
    "\t\t\tif pureID:\n",
    "\t\t\t\ttx_id = tx_id.split('.')[0]\n",
    "\t\t\tlength = int(arr[1])\n",
    "\t\t\trpkm = float(arr[2])\n",
    "\t\t\treactivity_ls = arr[3:]\n",
    "\t\t\tout_dict[tx_id]['tx_id'] = tx_id\n",
    "\t\t\tout_dict[tx_id]['length'] = length\n",
    "\t\t\tout_dict[tx_id]['rpkm'] = rpkm\n",
    "\t\t\tout_dict[tx_id]['reactivity_ls'] = reactivity_ls\n",
    "\treturn out_dict"
   ]
  },
  {
   "cell_type": "code",
   "execution_count": 25,
   "metadata": {},
   "outputs": [],
   "source": [
    "out_dict_kethoxal_rRNA = read_icshape_out('in_vivo_mRNA_kethoxal.newrRNA.T2t100.out')\n",
    "\n",
    "kethoxal = out_dict_kethoxal_rRNA['18S']['reactivity_ls']\n",
    "kethoxal = [np.nan if i == 'NULL' else float(i) for i in kethoxal]\n",
    "kethoxal_df = pd.DataFrame({'x':kethoxal})"
   ]
  },
  {
   "cell_type": "code",
   "execution_count": 26,
   "metadata": {},
   "outputs": [
    {
     "data": {
      "text/plain": [
       "(     x\n",
       " 0  1.0\n",
       " 1  1.0\n",
       " 2  1.0\n",
       " 3  0.5\n",
       " 4  0.5, (1869, 1))"
      ]
     },
     "execution_count": 26,
     "metadata": {},
     "output_type": "execute_result"
    }
   ],
   "source": [
    "#data import\n",
    "icshape_125 = pd.read_csv('./ml/icshape.125-r1.18s.list',header=None,names=['x'])\n",
    "score_125 = pd.read_csv('./ml/score.NAIN3-125-r1.T2t200.18s.list',header=None,names=['x'])\n",
    "score_125_t500 = pd.read_csv('./ml/score.NAIN3-125-r1.T2t500.18s.list',header=None,names=['x'])\n",
    "score_125_ext70 = pd.read_csv('./ml/score.NAIN3-125-r1.ex70.T2t200.18s.list',header=None,names=['x'])\n",
    "score_125_ext150 = pd.read_csv('./ml/score.NAIN3-125-r1.ex150.T2t200.18s.list',header=None,names=['x'])\n",
    "# icshape_paris = pd.read_csv('./ml/invivo.icSHAPE.18s.na.list',header=None,names=['x'])\n",
    "icshape_paris = pd.read_csv('./ml/18S.invivo.icSHAPE.new.color',header=None,names=['x'])\n",
    "#score_paris = pd.read_csv('../score.invivo.target.rRNA.t200.18S.na.list',header=None,names=['x'])\n",
    "# icshape_sl_cy = pd.read_csv('./ml/icSHAPE.1.18s.na.list',header=None,names=['x'])\n",
    "standard = pd.read_csv('./ml/human_18s_con.ct.color',header=None,names=['x'])\n",
    "accessibility = read_table('./ml/18s_o2_sasa.sort.txt',header=None)\n",
    "#standard = pd.read_csv('../../human_18s_con.ct',header=None,sep='\\t')[2]\n",
    "#flist = ['icshape_25','ml_125','ml_25','ml_125_t500','ml_125_t700','icshape_paris','icshape_sl']\n",
    "X_test = [icshape_125,score_125,score_125_t500,score_125_ext70,score_125_ext150,icshape_paris, kethoxal_df]\n",
    "y = standard\n",
    "accessibility.columns = ['a','b','c']\n",
    "#accessibility['a']\n",
    "y.head(), y.shape"
   ]
  },
  {
   "cell_type": "code",
   "execution_count": 27,
   "metadata": {},
   "outputs": [
    {
     "data": {
      "text/plain": [
       "(1869,\n",
       " u'TACCTGGTTGATCCTGCCAGTAGCATATGCTTGTCTCAAAGATTAAGCCATGCATGTCTGAGTACGCACGGCCGGTACAGTGAAACTGCGAATGGCTCATTAAATCAGTTATGGTTCCTTTGGTCGCTCGCTCCTCTCCTACTTGGATAACTGTGGTAATTCTAGAGCTAATACATGCCGACGGGCGCTGACCCCCTTCGCGGGGGGGATGCGTGCATTTATCAGATCAAAACCAACCCGGTCAGCCCCTCTCCGGCCCCGGCCGGGGGGCGGGCGCCGGCGGCTTTGGTGACTCTAGATAACCTCGGGCCGATCGCACGCCCCCCGTGGCGGCGACGACCCATTCGAACGTCTGCCCTATCAACTTTCGATGGTAGTCGCCGTGCCTACCATGGTGACCACGGGTGACGGGGAATCAGGGTTCGATTCCGGAGAGGGAGCCTGAGAAACGGCTACCACATCCAAGGAAGGCAGCAGGCGCGCAAATTACCCACTCCCGACCCGGGGAGGTAGTGACGAAAAATAACAATACAGGACTCTTTCGAGGCCCTGTAATTGGAATGAGTCCACTTTAAATCCTTTAACGAGGATCCATTGGAGGGCAAGTCTGGTGCCAGCAGCCGCGGTAATTCCAGCTCCAATAGCGTATATTAAAGTTGCTGCAGTTAAAAAGCTCGTAGTTGGATCTTGGGAGCGGGCGGGCGGTCCGCCGCGAGGCGAGCCACCGCCCGTCCCCGCCCCTTGCCTCTCGGCGCCCCCTCGATGCTCTTAGCTGAGTGTCCCGCGGGGCCCGAAGCGTTTACTTTGAAAAAATTAGAGTGTTCAAAGCAGGCCCGAGCCGCCTGGATACCGCAGCTAGGAATAATGGAATAGGACCGCGGTTCTATTTTGTTGGTTTTCGGAACTGAGGCCATGATTAAGAGGGACGGCCGGGGGCATTCGTATTGCGCCGCTAGAGGTGAAATTCTTGGACCGGCGCAAGACGGACCAGAGCGAAAGCATTTGCCAAGAATGTTTTCATTAATCAAGAACGAAAGTCGGAGGTTCGAAGACGATCAGATACCGTCGTAGTTCCGACCATAAACGATGCCGACCGGCGATGCGGCGGCGTTATTCCCATGACCCGCCGGGCAGCTTCCGGGAAACCAAAGTCTTTGGGTTCCGGGGGGAGTATGGTTGCAAAGCTGAAACTTAAAGGAATTGACGGAAGGGCACCACCAGGAGTGGAGCCTGCGGCTTAATTTGACTCAACACGGGAAACCTCACCCGGCCCGGACACGGACAGGATTGACAGATTGATAGCTCTTTCTCGATTCCGTGGGTGGTGGTGCATGGCCGTTCTTAGTTGGTGGAGCGATTTGTCTGGTTAATTCCGATAACGAACGAGACTCTGGCATGCTAACTAGTTACGCGACCCCCGAGCGGTCGGCGTCCCCCAACTTCTTAGAGGGACAAGTGGCGTTCAGCCACCCGAGATTGAGCAATAACAGGTCTGTGATGCCCTTAGATGTCCGGGGCTGCACGCGCGCTACACTGACTGGCTCAGCGTGTGCCTACCCTACGCCGGCAGGCGCGGGTAACCCGTTGAACCCCATTCGTGATGGGGATCGGGGATTGCAATTATTCCCCATGAACGAGGAATTCCCAGTAAGTGCGGGTCATAAGCTTGCGTTGATTAAGTCCCTGCCCTTTGTACACACCGCCCGTCGCTACTACCGATTGGATGGTTTAGTGAGGCCCTCGGATCGGCCCCGCCGGGGTCGGCCCACGGCCCTGGCGGAGCGCTGAGAAGACGGTCGAACTTGACTATCTAGAGGAAGTAAAAGTCGTAACAAGGTTTCCGTAGGTGAACCTGCGGAAGGATCATTA')"
      ]
     },
     "execution_count": 27,
     "metadata": {},
     "output_type": "execute_result"
    }
   ],
   "source": [
    "fa_dict = Fasta('./ribosomalRNAindex/human.18s_rRNA.fa', key_fn=lambda key:key.split(\"\\t\")[0])\n",
    "len(fa_dict['18S']), fa_dict['18S'][0:]"
   ]
  },
  {
   "cell_type": "code",
   "execution_count": 28,
   "metadata": {},
   "outputs": [
    {
     "data": {
      "text/plain": [
       "550"
      ]
     },
     "execution_count": 28,
     "metadata": {},
     "output_type": "execute_result"
    }
   ],
   "source": [
    "fa_dict['18S'][0:].count('G')"
   ]
  },
  {
   "cell_type": "code",
   "execution_count": 41,
   "metadata": {},
   "outputs": [
    {
     "name": "stdout",
     "output_type": "stream",
     "text": [
      "1869    a  b  x\n",
      "1  1  U  1\n",
      "2  2  A  1\n",
      "3  3  C  1\n",
      "4  4  C  0\n",
      "5  5  U  0\n",
      "   x\n",
      "1  1\n",
      "2  1\n",
      "3  1\n",
      "4  0\n",
      "5  0 (1869, 1) [ 1.  0. nan]\n"
     ]
    }
   ],
   "source": [
    "DSSR_18S_combine = 'DSSR_18S_combine.txt'\n",
    "DSSR_df = pd.read_csv(DSSR_18S_combine, sep=\"\\t\", header=None, names=['a', 'b', 'x', 'd', 'e'])\n",
    "DSSR_df.index = DSSR_df['a']\n",
    "nan_df = pd.DataFrame([np.nan]*1869, index=range(1, 1869 +1))\n",
    "DSSR_df = pd.merge(nan_df, DSSR_df, left_index=True, right_index=True, how='left')[['a', 'b', 'x']]\n",
    "print len(DSSR_df), DSSR_df.head()\n",
    "\n",
    "standard_dssr = DSSR_df[['x']]\n",
    "y=standard_dssr\n",
    "\n",
    "print y.head(), y.shape, y.x.unique()"
   ]
  },
  {
   "cell_type": "code",
   "execution_count": 31,
   "metadata": {},
   "outputs": [
    {
     "name": "stdout",
     "output_type": "stream",
     "text": [
      "1869          a    b         c\n",
      "1        1    U  0.000000\n",
      "2        2    A  0.000000\n",
      "3        3    C  0.000000\n",
      "4        4    C  0.000000\n",
      "5        5    U  0.000000\n",
      "6        6    G  0.000000\n",
      "7        7    G  0.000000\n",
      "8        8    U  0.000000\n",
      "9        9    U  0.000000\n",
      "10      10    G  0.000000\n",
      "11      11    A  0.000000\n",
      "12      12    U  0.000000\n",
      "13      13    C  0.000000\n",
      "14      14    C  0.000000\n",
      "15      15    U  0.000000\n",
      "16      16    G  0.000000\n",
      "17      17    C  0.000000\n",
      "18      18    C  0.000000\n",
      "19      19    A  0.000000\n",
      "20      20    G  0.000000\n",
      "21      21    U  0.000000\n",
      "22      22    A  0.000000\n",
      "23      23    G  0.000000\n",
      "24      24    C  0.000000\n",
      "25      25    A  0.000000\n",
      "26      26    U  0.000000\n",
      "27      27  A2M  0.000000\n",
      "28      28    U  0.000000\n",
      "29      29    G  0.000000\n",
      "30      30    C  0.000000\n",
      "...    ...  ...       ...\n",
      "1840  1840    U  0.000000\n",
      "1841  1841    C  4.812782\n",
      "1842  1842  4AC  0.000000\n",
      "1843  1843    G  0.000000\n",
      "1844  1844    U  0.000000\n",
      "1845  1845    A  0.000000\n",
      "1846  1846    G  0.000000\n",
      "1847  1847    G  0.000000\n",
      "1848  1848    U  0.000000\n",
      "1849  1849    G  8.148396\n",
      "1850  1850  MA6  0.000000\n",
      "1851  1851  MA6  0.000000\n",
      "1852  1852    C  0.000000\n",
      "1853  1853    C  0.000000\n",
      "1854  1854    U  0.000000\n",
      "1855  1855    G  0.000000\n",
      "1856  1856    C  0.000000\n",
      "1857  1857    G  0.000000\n",
      "1858  1858    G  0.000000\n",
      "1859  1859    A  0.000000\n",
      "1860  1860    A  0.000000\n",
      "1861  1861    G  0.000000\n",
      "1862  1862    G  0.000000\n",
      "1863  1863    A  0.000000\n",
      "1864  1864    U  0.000000\n",
      "1865  1865    C  0.000000\n",
      "1866  1866    A  0.000000\n",
      "1867  1867    U  0.000000\n",
      "1868  1868    U  0.000000\n",
      "1869  1869    A  9.577394\n",
      "\n",
      "[1869 rows x 3 columns]\n"
     ]
    }
   ],
   "source": [
    "pdb_sasa_file = './ml/human_allbase_o2.sr4.new.txt'\n",
    "sa_df = pd.read_csv(pdb_sasa_file, sep=\"\\t\", header=None, names=['a', 'b', 'c'])\n",
    "sa_df.index = sa_df['a']\n",
    "nan_df = pd.DataFrame([np.nan]*len(standard), index=range(1, len(standard) +1))\n",
    "sa_df = pd.merge(nan_df, sa_df, left_index=True, right_index=True, how='left')[['a', 'b', 'c']]\n",
    "print len(sa_df),sa_df\n",
    "\n"
   ]
  },
  {
   "cell_type": "code",
   "execution_count": 42,
   "metadata": {
    "scrolled": false
   },
   "outputs": [
    {
     "name": "stdout",
     "output_type": "stream",
     "text": [
      "                x    y           a\n",
      "count  899.000000  899  899.000000\n",
      "mean     0.112034    1    7.786869\n",
      "std      0.228162    0   17.752747\n",
      "min      0.000000    1    0.000000\n",
      "25%      0.007000    1    0.000000\n",
      "50%      0.032000    1    0.000000\n",
      "75%      0.088000    1    1.764000\n",
      "max      1.000000    1   99.858000\n",
      "                x    y           a\n",
      "count  787.000000  787  787.000000\n",
      "mean     0.091640    0    5.937180\n",
      "std      0.198696    0   15.020157\n",
      "min      0.000000    0    0.000000\n",
      "25%      0.004000    0    0.000000\n",
      "50%      0.029000    0    0.000000\n",
      "75%      0.074000    0    0.621000\n",
      "max      1.000000    0   87.974000\n"
     ]
    },
    {
     "data": {
      "image/png": "[encoded data removed]",
      "text/plain": [
       "<matplotlib.figure.Figure at 0x116c5b510>"
      ]
     },
     "metadata": {},
     "output_type": "display_data"
    },
    {
     "name": "stdout",
     "output_type": "stream",
     "text": [
      "                x    y           a\n",
      "count  911.000000  911  911.000000\n",
      "mean     0.158988    1    7.684297\n",
      "std      0.219298    0   17.657664\n",
      "min      0.009865    1    0.000000\n",
      "25%      0.038374    1    0.000000\n",
      "50%      0.081666    1    0.000000\n",
      "75%      0.166931    1    1.320000\n",
      "max      1.000000    1   99.858000\n",
      "                x    y           a\n",
      "count  810.000000  810  810.000000\n",
      "mean     0.150160    0    5.790477\n",
      "std      0.211774    0   14.836004\n",
      "min      0.009865    0    0.000000\n",
      "25%      0.036097    0    0.000000\n",
      "50%      0.076849    0    0.000000\n",
      "75%      0.160733    0    0.577000\n",
      "max      1.000000    0   87.974000\n"
     ]
    },
    {
     "data": {
      "image/png": "[encoded data removed]",
      "text/plain": [
       "<matplotlib.figure.Figure at 0x116c707d0>"
      ]
     },
     "metadata": {},
     "output_type": "display_data"
    },
    {
     "name": "stdout",
     "output_type": "stream",
     "text": [
      "                x    y           a\n",
      "count  911.000000  911  911.000000\n",
      "mean     0.159007    1    7.684297\n",
      "std      0.219285    0   17.657664\n",
      "min      0.010317    1    0.000000\n",
      "25%      0.038374    1    0.000000\n",
      "50%      0.081666    1    0.000000\n",
      "75%      0.166931    1    1.320000\n",
      "max      1.000000    1   99.858000\n",
      "                x    y           a\n",
      "count  806.000000  806  806.000000\n",
      "mean     0.150885    0    5.807331\n",
      "std      0.212048    0   14.868008\n",
      "min      0.010317    0    0.000000\n",
      "25%      0.036565    0    0.000000\n",
      "50%      0.077569    0    0.000000\n",
      "75%      0.160771    0    0.577000\n",
      "max      1.000000    0   87.974000\n"
     ]
    },
    {
     "data": {
      "image/png": "[encoded data removed]",
      "text/plain": [
       "<matplotlib.figure.Figure at 0x116814e10>"
      ]
     },
     "metadata": {},
     "output_type": "display_data"
    },
    {
     "name": "stdout",
     "output_type": "stream",
     "text": [
      "                x    y           a\n",
      "count  907.000000  907  907.000000\n",
      "mean     0.165174    1    7.718186\n",
      "std      0.221320    0   17.689201\n",
      "min      0.012305    1    0.000000\n",
      "25%      0.042312    1    0.000000\n",
      "50%      0.088774    1    0.000000\n",
      "75%      0.174517    1    1.493500\n",
      "max      1.000000    1   99.858000\n",
      "                x    y           a\n",
      "count  795.000000  795  795.000000\n",
      "mean     0.155989    0    5.887684\n",
      "std      0.213879    0   14.954815\n",
      "min      0.012305    0    0.000000\n",
      "25%      0.038307    0    0.000000\n",
      "50%      0.080598    0    0.000000\n",
      "75%      0.167372    0    0.599000\n",
      "max      1.000000    0   87.974000\n"
     ]
    },
    {
     "data": {
      "image/png": "[encoded data removed]",
      "text/plain": [
       "<matplotlib.figure.Figure at 0x116ccdb50>"
      ]
     },
     "metadata": {},
     "output_type": "display_data"
    },
    {
     "name": "stdout",
     "output_type": "stream",
     "text": [
      "                x    y           a\n",
      "count  907.000000  907  907.000000\n",
      "mean     0.172406    1    7.718186\n",
      "std      0.223010    0   17.689201\n",
      "min      0.013805    1    0.000000\n",
      "25%      0.046996    1    0.000000\n",
      "50%      0.096126    1    0.000000\n",
      "75%      0.182031    1    1.493500\n",
      "max      1.000000    1   99.858000\n",
      "                x    y           a\n",
      "count  795.000000  795  795.000000\n",
      "mean     0.163831    0    5.887684\n",
      "std      0.219747    0   14.954815\n",
      "min      0.013805    0    0.000000\n",
      "25%      0.045738    0    0.000000\n",
      "50%      0.087830    0    0.000000\n",
      "75%      0.164644    0    0.599000\n",
      "max      1.000000    0   87.974000\n"
     ]
    },
    {
     "data": {
      "image/png": "[encoded data removed]",
      "text/plain": [
       "<matplotlib.figure.Figure at 0x116840890>"
      ]
     },
     "metadata": {},
     "output_type": "display_data"
    },
    {
     "name": "stdout",
     "output_type": "stream",
     "text": [
      "1869 1869\n",
      "                x    y           a\n",
      "count  267.000000  267  267.000000\n",
      "mean     0.096981    1    9.911019\n",
      "std      0.176231    0   19.335290\n",
      "min      0.000000    1    0.000000\n",
      "25%      0.003000    1    0.000000\n",
      "50%      0.029000    1    0.000000\n",
      "75%      0.105500    1    5.775500\n",
      "max      1.000000    1   86.462000\n",
      "                x    y           a\n",
      "count  226.000000  226  226.000000\n",
      "mean     0.099000    0    6.349088\n",
      "std      0.207909    0   15.754750\n",
      "min      0.000000    0    0.000000\n",
      "25%      0.000000    0    0.000000\n",
      "50%      0.022000    0    0.000000\n",
      "75%      0.094000    0    0.678500\n",
      "max      1.000000    0   87.697000\n"
     ]
    },
    {
     "data": {
      "image/png": "[encoded data removed]",
      "text/plain": [
       "<matplotlib.figure.Figure at 0x117572e10>"
      ]
     },
     "metadata": {},
     "output_type": "display_data"
    },
    {
     "name": "stdout",
     "output_type": "stream",
     "text": [
      "1869 1869\n",
      "                x    y           a\n",
      "count  267.000000  267  267.000000\n",
      "mean     0.384442    1    9.911019\n",
      "std      0.308600    0   19.335290\n",
      "min      0.000000    1    0.000000\n",
      "25%      0.157000    1    0.000000\n",
      "50%      0.269000    1    0.000000\n",
      "75%      0.528500    1    5.775500\n",
      "max      1.000000    1   86.462000\n",
      "                x    y           a\n",
      "count  226.000000  226  226.000000\n",
      "mean     0.380633    0    6.349088\n",
      "std      0.317567    0   15.754750\n",
      "min      0.000000    0    0.000000\n",
      "25%      0.141250    0    0.000000\n",
      "50%      0.267500    0    0.000000\n",
      "75%      0.550750    0    0.678500\n",
      "max      1.000000    0   87.697000\n"
     ]
    },
    {
     "data": {
      "image/png": "[encoded data removed]",
      "text/plain": [
       "<matplotlib.figure.Figure at 0x1176d7750>"
      ]
     },
     "metadata": {},
     "output_type": "display_data"
    }
   ],
   "source": [
    "#fpr1,tpr1,_ = roc_curve(y, X1)\n",
    "#roc_auc1 = auc(fpr1, tpr1)\n",
    "filelist =['icshape_125','score_125','score_125_t500','score_125_ext70','score_125_ext150','icshape_paris', 'kethoxal']\n",
    "\n",
    "fpr_list = []\n",
    "tpr_list = []\n",
    "roc_auc_list = []\n",
    "#x_dic = {}\n",
    "for i in range(len(X_test)):\n",
    "    #print(i,X_test[i])\n",
    "    #X_test[i]['y'] = pd.Series(y)\n",
    "    X_test[i]['y'] = y\n",
    "    X_test[i]['a'] = pd.Series(accessibility['c'])\n",
    "#     X_test[i]['a'] = pd.Series(sa_df['c'])\n",
    "    if filelist[i] in ['icshape_paris', 'kethoxal']:\n",
    "        print len(X_test[i]['a']), len(list(fa_dict['18S'][0:]))\n",
    "        X_test[i]['base'] = list(fa_dict['18S'][0:])\n",
    "    X_select = X_test[i].dropna()\n",
    "    X_select = X_select[X_select.a>=0]\n",
    "\n",
    "#     def label(x):\n",
    "#         if x['y'] == 0:\n",
    "#             return 0\n",
    "#         elif x['y'] == 1 and x['a'] >2.5:\n",
    "#             return 1\n",
    "#         else:\n",
    "#             return np.nan\n",
    "#     X_select['label'] = X_select.apply(label, axis=1)\n",
    "    \n",
    "    X_select = X_select.dropna()\n",
    "    X_select = X_select[X_select['y']!=0.5]\n",
    "    X_select = X_select[X_select['x']>=0 ]\n",
    "    if filelist[i] in ['icshape_paris', 'kethoxal']:\n",
    "        X_select = X_select[X_select['base'] == 'G' ]\n",
    "    #print(X_select['y'])\n",
    "    #fpr,tpr,_ = roc_curve(X_clean['y'],X_clean['x'])\n",
    "    fpr,tpr,_ = roc_curve(X_select['y'],X_select['x'])\n",
    "    ml_125_ss = X_select[X_select.y==1]\n",
    "    ml_125_ds = X_select[X_select.y==0]\n",
    "    print(ml_125_ss.describe())\n",
    "    print(ml_125_ds.describe())\n",
    "    sns.distplot(ml_125_ss.dropna()['x'],norm_hist=True,kde=False, bins=10)\n",
    "    sns.distplot(ml_125_ds.dropna()['x'],norm_hist=True,kde=False, bins=10)\n",
    "    plt.title(filelist[i])\n",
    "    plt.show()\n",
    "    fpr_list.append(fpr)\n",
    "    tpr_list.append(tpr)\n",
    "    roc_auc_list.append(auc(fpr_list[i],tpr_list[i]))"
   ]
  },
  {
   "cell_type": "code",
   "execution_count": 43,
   "metadata": {},
   "outputs": [
    {
     "name": "stdout",
     "output_type": "stream",
     "text": [
      "0\n",
      "1\n",
      "2\n",
      "3\n",
      "4\n",
      "5\n",
      "6\n"
     ]
    },
    {
     "data": {
      "text/plain": [
       "<matplotlib.figure.Figure at 0x11775a4d0>"
      ]
     },
     "metadata": {},
     "output_type": "display_data"
    },
    {
     "data": {
      "image/png": "[encoded data removed]",
      "text/plain": [
       "<matplotlib.figure.Figure at 0x11775ae90>"
      ]
     },
     "metadata": {},
     "output_type": "display_data"
    }
   ],
   "source": [
    "plt.figure()\n",
    "lw = 2\n",
    "#plt.plot(fpr1, tpr1, color='darkorange',\n",
    "#         lw=lw, label='icshape_reactivity (area = %0.2f)' % roc_auc1)\n",
    "#color = ['red','orange','green','purple','blue','black','yellow']\n",
    "# filelist =['icshape_125','score_125','score_125_t500','score_125_ext70','score_125_ext150','icshape_paris','icshape_sl_cy']\n",
    "with sns.axes_style(\"ticks\"):\n",
    "    fig,ax=plt.subplots(figsize=(6,6))\n",
    "for i in range(len(X_test)):\n",
    "    print (i)\n",
    "    if i < 5:\n",
    "        continue\n",
    "    plt.plot(fpr_list[i],tpr_list[i],lw = lw,label = '%s (area = %0.2f)' %(filelist[i],roc_auc_list[i]))\n",
    "plt.plot([-0.05, 1.05], [-0.05, 1.05], color='black', lw=lw, linestyle='--',label='Luck')\n",
    "ax.axis('square')\n",
    "plt.xlim([-0.05, 1.05])\n",
    "plt.ylim([-0.05, 1.05])\n",
    "plt.xlabel('False Positive Rate')\n",
    "plt.ylabel('True Positive Rate')\n",
    "plt.title('ROC curve')\n",
    "plt.legend(bbox_to_anchor=(1, 1), loc=2)\n",
    "# plt.show()\n",
    "plt.tight_layout()\n",
    "plt.savefig('human_18S.pdf')"
   ]
  },
  {
   "cell_type": "code",
   "execution_count": null,
   "metadata": {
    "collapsed": true
   },
   "outputs": [],
   "source": [
    "ml_125_ss = ml_125[ml_125.y==1]\n",
    "ml_125_ds = ml_125[ml_125.y==0]\n",
    "sns.distplot(ml_125_ss.dropna()['x'],norm_hist=True,kde=False, bins=20,fit=stats.beta)\n",
    "sns.distplot(ml_125_ds.dropna()['x'],norm_hist=True,kde=False, bins=20,fit=stats.beta)\n",
    "plt.show()"
   ]
  }
 ],
 "metadata": {
  "kernelspec": {
   "display_name": "Python 2",
   "language": "python",
   "name": "python2"
  },
  "language_info": {
   "codemirror_mode": {
    "name": "ipython",
    "version": 2
   },
   "file_extension": ".py",
   "mimetype": "text/x-python",
   "name": "python",
   "nbconvert_exporter": "python",
   "pygments_lexer": "ipython2",
   "version": "2.7.12"
  }
 },
 "nbformat": 4,
 "nbformat_minor": 2
}
